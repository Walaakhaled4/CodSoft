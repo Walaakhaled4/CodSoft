{
 "cells": [
  {
   "cell_type": "code",
   "execution_count": 1,
   "id": "d1354136",
   "metadata": {
    "execution": {
     "iopub.execute_input": "2023-10-13T05:27:00.494190Z",
     "iopub.status.busy": "2023-10-13T05:27:00.493810Z",
     "iopub.status.idle": "2023-10-13T05:27:01.460790Z",
     "shell.execute_reply": "2023-10-13T05:27:01.459869Z"
    },
    "papermill": {
     "duration": 0.980443,
     "end_time": "2023-10-13T05:27:01.464306",
     "exception": false,
     "start_time": "2023-10-13T05:27:00.483863",
     "status": "completed"
    },
    "tags": []
   },
   "outputs": [
    {
     "name": "stdout",
     "output_type": "stream",
     "text": [
      "/kaggle/input/genre-classification-dataset-imdb/Genre Classification Dataset/description.txt\n",
      "/kaggle/input/genre-classification-dataset-imdb/Genre Classification Dataset/test_data_solution.txt\n",
      "/kaggle/input/genre-classification-dataset-imdb/Genre Classification Dataset/test_data.txt\n",
      "/kaggle/input/genre-classification-dataset-imdb/Genre Classification Dataset/train_data.txt\n"
     ]
    }
   ],
   "source": [
    "# This Python 3 environment comes with many helpful analytics libraries installed\n",
    "# It is defined by the kaggle/python Docker image: https://github.com/kaggle/docker-python\n",
    "# For example, here's several helpful packages to load\n",
    "\n",
    "import numpy as np # linear algebra\n",
    "import pandas as pd # data processing, CSV file I/O (e.g. pd.read_csv)\n",
    "\n",
    "# Input data files are available in the read-only \"../input/\" directory\n",
    "# For example, running this (by clicking run or pressing Shift+Enter) will list all files under the input directory\n",
    "\n",
    "import os\n",
    "for dirname, _, filenames in os.walk('/kaggle/input'):\n",
    "    for filename in filenames:\n",
    "        print(os.path.join(dirname, filename))\n",
    "\n",
    "# You can write up to 20GB to the current directory (/kaggle/working/) that gets preserved as output when you create a version using \"Save & Run All\" \n",
    "# You can also write temporary files to /kaggle/temp/, but they won't be saved outside of the current session"
   ]
  },
  {
   "cell_type": "code",
   "execution_count": 2,
   "id": "641f976f",
   "metadata": {
    "execution": {
     "iopub.execute_input": "2023-10-13T05:27:01.481676Z",
     "iopub.status.busy": "2023-10-13T05:27:01.480793Z",
     "iopub.status.idle": "2023-10-13T05:27:04.371687Z",
     "shell.execute_reply": "2023-10-13T05:27:04.370319Z"
    },
    "papermill": {
     "duration": 2.902726,
     "end_time": "2023-10-13T05:27:04.374707",
     "exception": false,
     "start_time": "2023-10-13T05:27:01.471981",
     "status": "completed"
    },
    "tags": []
   },
   "outputs": [],
   "source": [
    "# Importing required libraries\n",
    "import pandas as pd\n",
    "import numpy as np\n",
    "import matplotlib.pyplot as plt\n",
    "import seaborn as sns\n",
    "import re\n",
    "from nltk.tokenize import word_tokenize\n",
    "from nltk.stem import WordNetLemmatizer\n",
    "from nltk.corpus import stopwords\n",
    "from wordcloud import WordCloud\n",
    "from sklearn.linear_model import LogisticRegression\n",
    "from sklearn.feature_extraction.text import CountVectorizer\n",
    "from sklearn.feature_extraction.text import TfidfVectorizer\n",
    "from sklearn.naive_bayes import MultinomialNB\n",
    "from sklearn.metrics import accuracy_score, classification_report\n",
    "\n",
    "from sklearn.model_selection import train_test_split\n",
    "\n",
    "from sklearn.metrics import classification_report,confusion_matrix,ConfusionMatrixDisplay"
   ]
  },
  {
   "cell_type": "code",
   "execution_count": 3,
   "id": "4d9bfeef",
   "metadata": {
    "execution": {
     "iopub.execute_input": "2023-10-13T05:27:04.391119Z",
     "iopub.status.busy": "2023-10-13T05:27:04.390636Z",
     "iopub.status.idle": "2023-10-13T05:27:04.396304Z",
     "shell.execute_reply": "2023-10-13T05:27:04.394849Z"
    },
    "papermill": {
     "duration": 0.016497,
     "end_time": "2023-10-13T05:27:04.398468",
     "exception": false,
     "start_time": "2023-10-13T05:27:04.381971",
     "status": "completed"
    },
    "tags": []
   },
   "outputs": [],
   "source": [
    "import warnings\n",
    "\n",
    "# Ignore all warnings\n",
    "warnings.filterwarnings(\"ignore\")"
   ]
  },
  {
   "cell_type": "code",
   "execution_count": 4,
   "id": "0eb96e5a",
   "metadata": {
    "execution": {
     "iopub.execute_input": "2023-10-13T05:27:04.414270Z",
     "iopub.status.busy": "2023-10-13T05:27:04.413775Z",
     "iopub.status.idle": "2023-10-13T05:27:07.655088Z",
     "shell.execute_reply": "2023-10-13T05:27:07.654033Z"
    },
    "papermill": {
     "duration": 3.252212,
     "end_time": "2023-10-13T05:27:07.657747",
     "exception": false,
     "start_time": "2023-10-13T05:27:04.405535",
     "status": "completed"
    },
    "tags": []
   },
   "outputs": [],
   "source": [
    "# Read data\n",
    "\n",
    "train_data = pd.read_csv(\"/kaggle/input/genre-classification-dataset-imdb/Genre Classification Dataset/train_data.txt\", delimiter=':::' ,header = None ,engine='python')\n",
    "test_data  = pd.read_csv(\"/kaggle/input/genre-classification-dataset-imdb/Genre Classification Dataset/test_data.txt\", delimiter=':::' ,header = None ,engine='python')\n",
    "\n",
    "test_data_solution  = pd.read_csv(\"/kaggle/input/genre-classification-dataset-imdb/Genre Classification Dataset/test_data_solution.txt\", delimiter=':::' ,header = None ,engine='python')"
   ]
  },
  {
   "cell_type": "code",
   "execution_count": 5,
   "id": "9446c387",
   "metadata": {
    "execution": {
     "iopub.execute_input": "2023-10-13T05:27:07.676942Z",
     "iopub.status.busy": "2023-10-13T05:27:07.675740Z",
     "iopub.status.idle": "2023-10-13T05:27:07.706228Z",
     "shell.execute_reply": "2023-10-13T05:27:07.704843Z"
    },
    "papermill": {
     "duration": 0.04326,
     "end_time": "2023-10-13T05:27:07.709277",
     "exception": false,
     "start_time": "2023-10-13T05:27:07.666017",
     "status": "completed"
    },
    "tags": []
   },
   "outputs": [
    {
     "data": {
      "text/html": [
       "<div>\n",
       "<style scoped>\n",
       "    .dataframe tbody tr th:only-of-type {\n",
       "        vertical-align: middle;\n",
       "    }\n",
       "\n",
       "    .dataframe tbody tr th {\n",
       "        vertical-align: top;\n",
       "    }\n",
       "\n",
       "    .dataframe thead th {\n",
       "        text-align: right;\n",
       "    }\n",
       "</style>\n",
       "<table border=\"1\" class=\"dataframe\">\n",
       "  <thead>\n",
       "    <tr style=\"text-align: right;\">\n",
       "      <th></th>\n",
       "      <th>0</th>\n",
       "      <th>1</th>\n",
       "      <th>2</th>\n",
       "      <th>3</th>\n",
       "    </tr>\n",
       "  </thead>\n",
       "  <tbody>\n",
       "    <tr>\n",
       "      <th>0</th>\n",
       "      <td>1</td>\n",
       "      <td>Oscar et la dame rose (2009)</td>\n",
       "      <td>drama</td>\n",
       "      <td>Listening in to a conversation between his do...</td>\n",
       "    </tr>\n",
       "    <tr>\n",
       "      <th>1</th>\n",
       "      <td>2</td>\n",
       "      <td>Cupid (1997)</td>\n",
       "      <td>thriller</td>\n",
       "      <td>A brother and sister with a past incestuous r...</td>\n",
       "    </tr>\n",
       "    <tr>\n",
       "      <th>2</th>\n",
       "      <td>3</td>\n",
       "      <td>Young, Wild and Wonderful (1980)</td>\n",
       "      <td>adult</td>\n",
       "      <td>As the bus empties the students for their fie...</td>\n",
       "    </tr>\n",
       "    <tr>\n",
       "      <th>3</th>\n",
       "      <td>4</td>\n",
       "      <td>The Secret Sin (1915)</td>\n",
       "      <td>drama</td>\n",
       "      <td>To help their unemployed father make ends mee...</td>\n",
       "    </tr>\n",
       "    <tr>\n",
       "      <th>4</th>\n",
       "      <td>5</td>\n",
       "      <td>The Unrecovered (2007)</td>\n",
       "      <td>drama</td>\n",
       "      <td>The film's title refers not only to the un-re...</td>\n",
       "    </tr>\n",
       "  </tbody>\n",
       "</table>\n",
       "</div>"
      ],
      "text/plain": [
       "   0                                   1           2  \\\n",
       "0  1       Oscar et la dame rose (2009)       drama    \n",
       "1  2                       Cupid (1997)    thriller    \n",
       "2  3   Young, Wild and Wonderful (1980)       adult    \n",
       "3  4              The Secret Sin (1915)       drama    \n",
       "4  5             The Unrecovered (2007)       drama    \n",
       "\n",
       "                                                   3  \n",
       "0   Listening in to a conversation between his do...  \n",
       "1   A brother and sister with a past incestuous r...  \n",
       "2   As the bus empties the students for their fie...  \n",
       "3   To help their unemployed father make ends mee...  \n",
       "4   The film's title refers not only to the un-re...  "
      ]
     },
     "execution_count": 5,
     "metadata": {},
     "output_type": "execute_result"
    }
   ],
   "source": [
    "#view first 5 rows train data\n",
    "train_data.head()"
   ]
  },
  {
   "cell_type": "code",
   "execution_count": 6,
   "id": "9c64f2e9",
   "metadata": {
    "execution": {
     "iopub.execute_input": "2023-10-13T05:27:07.727682Z",
     "iopub.status.busy": "2023-10-13T05:27:07.727314Z",
     "iopub.status.idle": "2023-10-13T05:27:07.735017Z",
     "shell.execute_reply": "2023-10-13T05:27:07.733612Z"
    },
    "papermill": {
     "duration": 0.01945,
     "end_time": "2023-10-13T05:27:07.737551",
     "exception": false,
     "start_time": "2023-10-13T05:27:07.718101",
     "status": "completed"
    },
    "tags": []
   },
   "outputs": [
    {
     "data": {
      "text/plain": [
       "(54214, 4)"
      ]
     },
     "execution_count": 6,
     "metadata": {},
     "output_type": "execute_result"
    }
   ],
   "source": [
    "# check number of rows and columns of train data\n",
    "\n",
    "train_data.shape"
   ]
  },
  {
   "cell_type": "code",
   "execution_count": 7,
   "id": "17b32b84",
   "metadata": {
    "execution": {
     "iopub.execute_input": "2023-10-13T05:27:07.755376Z",
     "iopub.status.busy": "2023-10-13T05:27:07.754991Z",
     "iopub.status.idle": "2023-10-13T05:27:07.767364Z",
     "shell.execute_reply": "2023-10-13T05:27:07.766037Z"
    },
    "papermill": {
     "duration": 0.02465,
     "end_time": "2023-10-13T05:27:07.770011",
     "exception": false,
     "start_time": "2023-10-13T05:27:07.745361",
     "status": "completed"
    },
    "tags": []
   },
   "outputs": [
    {
     "data": {
      "text/html": [
       "<div>\n",
       "<style scoped>\n",
       "    .dataframe tbody tr th:only-of-type {\n",
       "        vertical-align: middle;\n",
       "    }\n",
       "\n",
       "    .dataframe tbody tr th {\n",
       "        vertical-align: top;\n",
       "    }\n",
       "\n",
       "    .dataframe thead th {\n",
       "        text-align: right;\n",
       "    }\n",
       "</style>\n",
       "<table border=\"1\" class=\"dataframe\">\n",
       "  <thead>\n",
       "    <tr style=\"text-align: right;\">\n",
       "      <th></th>\n",
       "      <th>0</th>\n",
       "      <th>1</th>\n",
       "      <th>2</th>\n",
       "      <th>3</th>\n",
       "    </tr>\n",
       "  </thead>\n",
       "  <tbody>\n",
       "    <tr>\n",
       "      <th>0</th>\n",
       "      <td>1</td>\n",
       "      <td>Edgar's Lunch (1998)</td>\n",
       "      <td>thriller</td>\n",
       "      <td>L.R. Brane loves his life - his car, his apar...</td>\n",
       "    </tr>\n",
       "    <tr>\n",
       "      <th>1</th>\n",
       "      <td>2</td>\n",
       "      <td>La guerra de papá (1977)</td>\n",
       "      <td>comedy</td>\n",
       "      <td>Spain, March 1964: Quico is a very naughty ch...</td>\n",
       "    </tr>\n",
       "    <tr>\n",
       "      <th>2</th>\n",
       "      <td>3</td>\n",
       "      <td>Off the Beaten Track (2010)</td>\n",
       "      <td>documentary</td>\n",
       "      <td>One year in the life of Albin and his family ...</td>\n",
       "    </tr>\n",
       "    <tr>\n",
       "      <th>3</th>\n",
       "      <td>4</td>\n",
       "      <td>Meu Amigo Hindu (2015)</td>\n",
       "      <td>drama</td>\n",
       "      <td>His father has died, he hasn't spoken with hi...</td>\n",
       "    </tr>\n",
       "    <tr>\n",
       "      <th>4</th>\n",
       "      <td>5</td>\n",
       "      <td>Er nu zhai (1955)</td>\n",
       "      <td>drama</td>\n",
       "      <td>Before he was known internationally as a mart...</td>\n",
       "    </tr>\n",
       "  </tbody>\n",
       "</table>\n",
       "</div>"
      ],
      "text/plain": [
       "   0                              1              2  \\\n",
       "0  1          Edgar's Lunch (1998)       thriller    \n",
       "1  2      La guerra de papá (1977)         comedy    \n",
       "2  3   Off the Beaten Track (2010)    documentary    \n",
       "3  4        Meu Amigo Hindu (2015)          drama    \n",
       "4  5             Er nu zhai (1955)          drama    \n",
       "\n",
       "                                                   3  \n",
       "0   L.R. Brane loves his life - his car, his apar...  \n",
       "1   Spain, March 1964: Quico is a very naughty ch...  \n",
       "2   One year in the life of Albin and his family ...  \n",
       "3   His father has died, he hasn't spoken with hi...  \n",
       "4   Before he was known internationally as a mart...  "
      ]
     },
     "execution_count": 7,
     "metadata": {},
     "output_type": "execute_result"
    }
   ],
   "source": [
    "#view first 5 rows test data\n",
    "test_data_solution.head()"
   ]
  },
  {
   "cell_type": "code",
   "execution_count": 8,
   "id": "054d38cd",
   "metadata": {
    "execution": {
     "iopub.execute_input": "2023-10-13T05:27:07.788666Z",
     "iopub.status.busy": "2023-10-13T05:27:07.788212Z",
     "iopub.status.idle": "2023-10-13T05:27:07.795269Z",
     "shell.execute_reply": "2023-10-13T05:27:07.794020Z"
    },
    "papermill": {
     "duration": 0.018817,
     "end_time": "2023-10-13T05:27:07.797520",
     "exception": false,
     "start_time": "2023-10-13T05:27:07.778703",
     "status": "completed"
    },
    "tags": []
   },
   "outputs": [
    {
     "data": {
      "text/plain": [
       "(54200, 4)"
      ]
     },
     "execution_count": 8,
     "metadata": {},
     "output_type": "execute_result"
    }
   ],
   "source": [
    "# check number of rows and columns of test data\n",
    "\n",
    "test_data_solution.shape"
   ]
  },
  {
   "cell_type": "code",
   "execution_count": 9,
   "id": "6363d4f3",
   "metadata": {
    "execution": {
     "iopub.execute_input": "2023-10-13T05:27:07.816097Z",
     "iopub.status.busy": "2023-10-13T05:27:07.815696Z",
     "iopub.status.idle": "2023-10-13T05:27:07.864282Z",
     "shell.execute_reply": "2023-10-13T05:27:07.862334Z"
    },
    "papermill": {
     "duration": 0.062639,
     "end_time": "2023-10-13T05:27:07.867795",
     "exception": false,
     "start_time": "2023-10-13T05:27:07.805156",
     "status": "completed"
    },
    "tags": []
   },
   "outputs": [
    {
     "name": "stdout",
     "output_type": "stream",
     "text": [
      "<class 'pandas.core.frame.DataFrame'>\n",
      "RangeIndex: 54214 entries, 0 to 54213\n",
      "Data columns (total 4 columns):\n",
      " #   Column  Non-Null Count  Dtype \n",
      "---  ------  --------------  ----- \n",
      " 0   0       54214 non-null  int64 \n",
      " 1   1       54214 non-null  object\n",
      " 2   2       54214 non-null  object\n",
      " 3   3       54214 non-null  object\n",
      "dtypes: int64(1), object(3)\n",
      "memory usage: 1.7+ MB\n"
     ]
    }
   ],
   "source": [
    "# to get infomation about the  train data\n",
    "train_data.info()"
   ]
  },
  {
   "cell_type": "code",
   "execution_count": 10,
   "id": "1d98bfa7",
   "metadata": {
    "execution": {
     "iopub.execute_input": "2023-10-13T05:27:07.887913Z",
     "iopub.status.busy": "2023-10-13T05:27:07.887460Z",
     "iopub.status.idle": "2023-10-13T05:27:07.916170Z",
     "shell.execute_reply": "2023-10-13T05:27:07.914329Z"
    },
    "papermill": {
     "duration": 0.041466,
     "end_time": "2023-10-13T05:27:07.919005",
     "exception": false,
     "start_time": "2023-10-13T05:27:07.877539",
     "status": "completed"
    },
    "tags": []
   },
   "outputs": [
    {
     "name": "stdout",
     "output_type": "stream",
     "text": [
      "<class 'pandas.core.frame.DataFrame'>\n",
      "RangeIndex: 54200 entries, 0 to 54199\n",
      "Data columns (total 4 columns):\n",
      " #   Column  Non-Null Count  Dtype \n",
      "---  ------  --------------  ----- \n",
      " 0   0       54200 non-null  int64 \n",
      " 1   1       54200 non-null  object\n",
      " 2   2       54200 non-null  object\n",
      " 3   3       54200 non-null  object\n",
      "dtypes: int64(1), object(3)\n",
      "memory usage: 1.7+ MB\n"
     ]
    }
   ],
   "source": [
    "# to get infomation about the test data\n",
    "test_data_solution.info()"
   ]
  },
  {
   "cell_type": "code",
   "execution_count": 11,
   "id": "7ed6a77e",
   "metadata": {
    "execution": {
     "iopub.execute_input": "2023-10-13T05:27:07.938862Z",
     "iopub.status.busy": "2023-10-13T05:27:07.938494Z",
     "iopub.status.idle": "2023-10-13T05:27:07.953082Z",
     "shell.execute_reply": "2023-10-13T05:27:07.951845Z"
    },
    "papermill": {
     "duration": 0.027841,
     "end_time": "2023-10-13T05:27:07.955872",
     "exception": false,
     "start_time": "2023-10-13T05:27:07.928031",
     "status": "completed"
    },
    "tags": []
   },
   "outputs": [],
   "source": [
    "# We will concat the test and train file\n",
    "df = pd.concat((train_data ,test_data_solution))\n",
    "df.columns = [\"id\" ,\"Name\",\"Genre\",\"Description\"]"
   ]
  },
  {
   "cell_type": "code",
   "execution_count": 12,
   "id": "e4f50d49",
   "metadata": {
    "execution": {
     "iopub.execute_input": "2023-10-13T05:27:07.974589Z",
     "iopub.status.busy": "2023-10-13T05:27:07.974156Z",
     "iopub.status.idle": "2023-10-13T05:27:07.986900Z",
     "shell.execute_reply": "2023-10-13T05:27:07.985623Z"
    },
    "papermill": {
     "duration": 0.025604,
     "end_time": "2023-10-13T05:27:07.989759",
     "exception": false,
     "start_time": "2023-10-13T05:27:07.964155",
     "status": "completed"
    },
    "tags": []
   },
   "outputs": [
    {
     "data": {
      "text/html": [
       "<div>\n",
       "<style scoped>\n",
       "    .dataframe tbody tr th:only-of-type {\n",
       "        vertical-align: middle;\n",
       "    }\n",
       "\n",
       "    .dataframe tbody tr th {\n",
       "        vertical-align: top;\n",
       "    }\n",
       "\n",
       "    .dataframe thead th {\n",
       "        text-align: right;\n",
       "    }\n",
       "</style>\n",
       "<table border=\"1\" class=\"dataframe\">\n",
       "  <thead>\n",
       "    <tr style=\"text-align: right;\">\n",
       "      <th></th>\n",
       "      <th>id</th>\n",
       "      <th>Name</th>\n",
       "      <th>Genre</th>\n",
       "      <th>Description</th>\n",
       "    </tr>\n",
       "  </thead>\n",
       "  <tbody>\n",
       "    <tr>\n",
       "      <th>0</th>\n",
       "      <td>1</td>\n",
       "      <td>Oscar et la dame rose (2009)</td>\n",
       "      <td>drama</td>\n",
       "      <td>Listening in to a conversation between his do...</td>\n",
       "    </tr>\n",
       "    <tr>\n",
       "      <th>1</th>\n",
       "      <td>2</td>\n",
       "      <td>Cupid (1997)</td>\n",
       "      <td>thriller</td>\n",
       "      <td>A brother and sister with a past incestuous r...</td>\n",
       "    </tr>\n",
       "    <tr>\n",
       "      <th>2</th>\n",
       "      <td>3</td>\n",
       "      <td>Young, Wild and Wonderful (1980)</td>\n",
       "      <td>adult</td>\n",
       "      <td>As the bus empties the students for their fie...</td>\n",
       "    </tr>\n",
       "    <tr>\n",
       "      <th>3</th>\n",
       "      <td>4</td>\n",
       "      <td>The Secret Sin (1915)</td>\n",
       "      <td>drama</td>\n",
       "      <td>To help their unemployed father make ends mee...</td>\n",
       "    </tr>\n",
       "    <tr>\n",
       "      <th>4</th>\n",
       "      <td>5</td>\n",
       "      <td>The Unrecovered (2007)</td>\n",
       "      <td>drama</td>\n",
       "      <td>The film's title refers not only to the un-re...</td>\n",
       "    </tr>\n",
       "  </tbody>\n",
       "</table>\n",
       "</div>"
      ],
      "text/plain": [
       "   id                                Name       Genre  \\\n",
       "0   1       Oscar et la dame rose (2009)       drama    \n",
       "1   2                       Cupid (1997)    thriller    \n",
       "2   3   Young, Wild and Wonderful (1980)       adult    \n",
       "3   4              The Secret Sin (1915)       drama    \n",
       "4   5             The Unrecovered (2007)       drama    \n",
       "\n",
       "                                         Description  \n",
       "0   Listening in to a conversation between his do...  \n",
       "1   A brother and sister with a past incestuous r...  \n",
       "2   As the bus empties the students for their fie...  \n",
       "3   To help their unemployed father make ends mee...  \n",
       "4   The film's title refers not only to the un-re...  "
      ]
     },
     "execution_count": 12,
     "metadata": {},
     "output_type": "execute_result"
    }
   ],
   "source": [
    "#view first 5 rows data\n",
    "df.head()"
   ]
  },
  {
   "cell_type": "markdown",
   "id": "b7731d30",
   "metadata": {
    "papermill": {
     "duration": 0.008659,
     "end_time": "2023-10-13T05:27:08.006885",
     "exception": false,
     "start_time": "2023-10-13T05:27:07.998226",
     "status": "completed"
    },
    "tags": []
   },
   "source": [
    "# #preprocessing"
   ]
  },
  {
   "cell_type": "code",
   "execution_count": 13,
   "id": "fd1281d7",
   "metadata": {
    "execution": {
     "iopub.execute_input": "2023-10-13T05:27:08.029616Z",
     "iopub.status.busy": "2023-10-13T05:27:08.029219Z",
     "iopub.status.idle": "2023-10-13T05:27:08.039314Z",
     "shell.execute_reply": "2023-10-13T05:27:08.037828Z"
    },
    "papermill": {
     "duration": 0.02334,
     "end_time": "2023-10-13T05:27:08.042356",
     "exception": false,
     "start_time": "2023-10-13T05:27:08.019016",
     "status": "completed"
    },
    "tags": []
   },
   "outputs": [
    {
     "data": {
      "text/plain": [
       "(108414, 4)"
      ]
     },
     "execution_count": 13,
     "metadata": {},
     "output_type": "execute_result"
    }
   ],
   "source": [
    "# check number of rows and columns of data\n",
    "df.shape"
   ]
  },
  {
   "cell_type": "code",
   "execution_count": 14,
   "id": "a21b09e7",
   "metadata": {
    "execution": {
     "iopub.execute_input": "2023-10-13T05:27:08.065503Z",
     "iopub.status.busy": "2023-10-13T05:27:08.065021Z",
     "iopub.status.idle": "2023-10-13T05:27:08.107650Z",
     "shell.execute_reply": "2023-10-13T05:27:08.105943Z"
    },
    "papermill": {
     "duration": 0.058196,
     "end_time": "2023-10-13T05:27:08.110978",
     "exception": false,
     "start_time": "2023-10-13T05:27:08.052782",
     "status": "completed"
    },
    "tags": []
   },
   "outputs": [
    {
     "name": "stdout",
     "output_type": "stream",
     "text": [
      "<class 'pandas.core.frame.DataFrame'>\n",
      "Index: 108414 entries, 0 to 54199\n",
      "Data columns (total 4 columns):\n",
      " #   Column       Non-Null Count   Dtype \n",
      "---  ------       --------------   ----- \n",
      " 0   id           108414 non-null  int64 \n",
      " 1   Name         108414 non-null  object\n",
      " 2   Genre        108414 non-null  object\n",
      " 3   Description  108414 non-null  object\n",
      "dtypes: int64(1), object(3)\n",
      "memory usage: 4.1+ MB\n"
     ]
    }
   ],
   "source": [
    "# to get infomation about the data\n",
    "df.info()"
   ]
  },
  {
   "cell_type": "code",
   "execution_count": 15,
   "id": "44afbf2d",
   "metadata": {
    "execution": {
     "iopub.execute_input": "2023-10-13T05:27:08.131694Z",
     "iopub.status.busy": "2023-10-13T05:27:08.131318Z",
     "iopub.status.idle": "2023-10-13T05:27:08.168344Z",
     "shell.execute_reply": "2023-10-13T05:27:08.166969Z"
    },
    "papermill": {
     "duration": 0.049601,
     "end_time": "2023-10-13T05:27:08.170832",
     "exception": false,
     "start_time": "2023-10-13T05:27:08.121231",
     "status": "completed"
    },
    "tags": []
   },
   "outputs": [
    {
     "data": {
      "text/plain": [
       "id             0\n",
       "Name           0\n",
       "Genre          0\n",
       "Description    0\n",
       "dtype: int64"
      ]
     },
     "execution_count": 15,
     "metadata": {},
     "output_type": "execute_result"
    }
   ],
   "source": [
    "# checking missing values\n",
    "df.isnull().sum()"
   ]
  },
  {
   "cell_type": "code",
   "execution_count": 16,
   "id": "4240b778",
   "metadata": {
    "execution": {
     "iopub.execute_input": "2023-10-13T05:27:08.192415Z",
     "iopub.status.busy": "2023-10-13T05:27:08.191842Z",
     "iopub.status.idle": "2023-10-13T05:27:08.737289Z",
     "shell.execute_reply": "2023-10-13T05:27:08.735718Z"
    },
    "papermill": {
     "duration": 0.561237,
     "end_time": "2023-10-13T05:27:08.740322",
     "exception": false,
     "start_time": "2023-10-13T05:27:08.179085",
     "status": "completed"
    },
    "tags": []
   },
   "outputs": [],
   "source": [
    "## Check for Duplicates and Remove \n",
    "df.duplicated().sum() \n",
    "df.drop_duplicates(inplace = True)  "
   ]
  },
  {
   "cell_type": "code",
   "execution_count": 17,
   "id": "b7dbec5f",
   "metadata": {
    "execution": {
     "iopub.execute_input": "2023-10-13T05:27:08.758867Z",
     "iopub.status.busy": "2023-10-13T05:27:08.758412Z",
     "iopub.status.idle": "2023-10-13T05:27:08.773460Z",
     "shell.execute_reply": "2023-10-13T05:27:08.772113Z"
    },
    "papermill": {
     "duration": 0.027662,
     "end_time": "2023-10-13T05:27:08.776430",
     "exception": false,
     "start_time": "2023-10-13T05:27:08.748768",
     "status": "completed"
    },
    "tags": []
   },
   "outputs": [],
   "source": [
    "## function to preprocess the data\n",
    "stopword = set(stopwords.words('english'))\n",
    "\n",
    "def preprocessing(text):\n",
    "    # Convert text to lowercase\n",
    "    text = text.lower()\n",
    "    \n",
    "    # Remove punctuation using regular expressions\n",
    "    text = re.sub(r'[^\\w\\s]', '', text)\n",
    "    \n",
    "    # Remove specific characters #, @, and $\n",
    "    text = re.sub(r'[#@\\$]', '', text)\n",
    "    \n",
    "    # tokenize and convert to list\n",
    "    tokens = word_tokenize(text)\n",
    "    \n",
    "    ## Lemmatize it \n",
    "    lemmatizer  = WordNetLemmatizer()\n",
    "    \n",
    "    ## lemmatize each token\n",
    "   # text = [lemmatizer.lemmatize(token) for token in tokens]\n",
    "    text = text.split()\n",
    "    \n",
    "    text = [word for word in text if word not in stopword]\n",
    "    \n",
    "    \n",
    "    return \" \".join(text) "
   ]
  },
  {
   "cell_type": "code",
   "execution_count": 18,
   "id": "0b496b6a",
   "metadata": {
    "execution": {
     "iopub.execute_input": "2023-10-13T05:27:08.796818Z",
     "iopub.status.busy": "2023-10-13T05:27:08.796427Z",
     "iopub.status.idle": "2023-10-13T05:28:03.642425Z",
     "shell.execute_reply": "2023-10-13T05:28:03.640927Z"
    },
    "papermill": {
     "duration": 54.859681,
     "end_time": "2023-10-13T05:28:03.645686",
     "exception": false,
     "start_time": "2023-10-13T05:27:08.786005",
     "status": "completed"
    },
    "tags": []
   },
   "outputs": [],
   "source": [
    "# Create list of words in discription column\n",
    "df[\"Despcription_processing\"] =  df[\"Description\"].apply(preprocessing)"
   ]
  },
  {
   "cell_type": "code",
   "execution_count": 19,
   "id": "6fa9d762",
   "metadata": {
    "execution": {
     "iopub.execute_input": "2023-10-13T05:28:03.665104Z",
     "iopub.status.busy": "2023-10-13T05:28:03.664736Z",
     "iopub.status.idle": "2023-10-13T05:28:03.678008Z",
     "shell.execute_reply": "2023-10-13T05:28:03.676756Z"
    },
    "papermill": {
     "duration": 0.026021,
     "end_time": "2023-10-13T05:28:03.680708",
     "exception": false,
     "start_time": "2023-10-13T05:28:03.654687",
     "status": "completed"
    },
    "tags": []
   },
   "outputs": [
    {
     "data": {
      "text/html": [
       "<div>\n",
       "<style scoped>\n",
       "    .dataframe tbody tr th:only-of-type {\n",
       "        vertical-align: middle;\n",
       "    }\n",
       "\n",
       "    .dataframe tbody tr th {\n",
       "        vertical-align: top;\n",
       "    }\n",
       "\n",
       "    .dataframe thead th {\n",
       "        text-align: right;\n",
       "    }\n",
       "</style>\n",
       "<table border=\"1\" class=\"dataframe\">\n",
       "  <thead>\n",
       "    <tr style=\"text-align: right;\">\n",
       "      <th></th>\n",
       "      <th>id</th>\n",
       "      <th>Name</th>\n",
       "      <th>Genre</th>\n",
       "      <th>Description</th>\n",
       "      <th>Despcription_processing</th>\n",
       "    </tr>\n",
       "  </thead>\n",
       "  <tbody>\n",
       "    <tr>\n",
       "      <th>0</th>\n",
       "      <td>1</td>\n",
       "      <td>Oscar et la dame rose (2009)</td>\n",
       "      <td>drama</td>\n",
       "      <td>Listening in to a conversation between his do...</td>\n",
       "      <td>listening conversation doctor parents 10yearol...</td>\n",
       "    </tr>\n",
       "    <tr>\n",
       "      <th>1</th>\n",
       "      <td>2</td>\n",
       "      <td>Cupid (1997)</td>\n",
       "      <td>thriller</td>\n",
       "      <td>A brother and sister with a past incestuous r...</td>\n",
       "      <td>brother sister past incestuous relationship cu...</td>\n",
       "    </tr>\n",
       "    <tr>\n",
       "      <th>2</th>\n",
       "      <td>3</td>\n",
       "      <td>Young, Wild and Wonderful (1980)</td>\n",
       "      <td>adult</td>\n",
       "      <td>As the bus empties the students for their fie...</td>\n",
       "      <td>bus empties students field trip museum natural...</td>\n",
       "    </tr>\n",
       "    <tr>\n",
       "      <th>3</th>\n",
       "      <td>4</td>\n",
       "      <td>The Secret Sin (1915)</td>\n",
       "      <td>drama</td>\n",
       "      <td>To help their unemployed father make ends mee...</td>\n",
       "      <td>help unemployed father make ends meet edith tw...</td>\n",
       "    </tr>\n",
       "    <tr>\n",
       "      <th>4</th>\n",
       "      <td>5</td>\n",
       "      <td>The Unrecovered (2007)</td>\n",
       "      <td>drama</td>\n",
       "      <td>The film's title refers not only to the un-re...</td>\n",
       "      <td>films title refers unrecovered bodies ground z...</td>\n",
       "    </tr>\n",
       "  </tbody>\n",
       "</table>\n",
       "</div>"
      ],
      "text/plain": [
       "   id                                Name       Genre  \\\n",
       "0   1       Oscar et la dame rose (2009)       drama    \n",
       "1   2                       Cupid (1997)    thriller    \n",
       "2   3   Young, Wild and Wonderful (1980)       adult    \n",
       "3   4              The Secret Sin (1915)       drama    \n",
       "4   5             The Unrecovered (2007)       drama    \n",
       "\n",
       "                                         Description  \\\n",
       "0   Listening in to a conversation between his do...   \n",
       "1   A brother and sister with a past incestuous r...   \n",
       "2   As the bus empties the students for their fie...   \n",
       "3   To help their unemployed father make ends mee...   \n",
       "4   The film's title refers not only to the un-re...   \n",
       "\n",
       "                             Despcription_processing  \n",
       "0  listening conversation doctor parents 10yearol...  \n",
       "1  brother sister past incestuous relationship cu...  \n",
       "2  bus empties students field trip museum natural...  \n",
       "3  help unemployed father make ends meet edith tw...  \n",
       "4  films title refers unrecovered bodies ground z...  "
      ]
     },
     "execution_count": 19,
     "metadata": {},
     "output_type": "execute_result"
    }
   ],
   "source": [
    "df.head()"
   ]
  },
  {
   "cell_type": "markdown",
   "id": "d973251e",
   "metadata": {
    "papermill": {
     "duration": 0.008361,
     "end_time": "2023-10-13T05:28:03.698750",
     "exception": false,
     "start_time": "2023-10-13T05:28:03.690389",
     "status": "completed"
    },
    "tags": []
   },
   "source": [
    "# #Data Visualization"
   ]
  },
  {
   "cell_type": "code",
   "execution_count": 20,
   "id": "44e93287",
   "metadata": {
    "execution": {
     "iopub.execute_input": "2023-10-13T05:28:03.719064Z",
     "iopub.status.busy": "2023-10-13T05:28:03.718323Z",
     "iopub.status.idle": "2023-10-13T05:28:03.735473Z",
     "shell.execute_reply": "2023-10-13T05:28:03.734005Z"
    },
    "papermill": {
     "duration": 0.030302,
     "end_time": "2023-10-13T05:28:03.737981",
     "exception": false,
     "start_time": "2023-10-13T05:28:03.707679",
     "status": "completed"
    },
    "tags": []
   },
   "outputs": [
    {
     "data": {
      "text/plain": [
       "Genre\n",
       " drama           27225\n",
       " documentary     26192\n",
       " comedy          14893\n",
       " short           10145\n",
       " horror           4408\n",
       " thriller         3181\n",
       " action           2629\n",
       " western          2064\n",
       " reality-tv       1767\n",
       " family           1567\n",
       " adventure        1550\n",
       " music            1462\n",
       " romance          1344\n",
       " sci-fi           1293\n",
       " adult            1180\n",
       " crime            1010\n",
       " animation         996\n",
       " sport             863\n",
       " talk-show         782\n",
       " fantasy           645\n",
       " mystery           637\n",
       " musical           553\n",
       " biography         529\n",
       " history           486\n",
       " game-show         387\n",
       " news              362\n",
       " war               264\n",
       "Name: count, dtype: int64"
      ]
     },
     "execution_count": 20,
     "metadata": {},
     "output_type": "execute_result"
    }
   ],
   "source": [
    "## Shows us the label counts\n",
    "df[\"Genre\"].value_counts()"
   ]
  },
  {
   "cell_type": "code",
   "execution_count": 21,
   "id": "822d8832",
   "metadata": {
    "execution": {
     "iopub.execute_input": "2023-10-13T05:28:03.760746Z",
     "iopub.status.busy": "2023-10-13T05:28:03.759290Z",
     "iopub.status.idle": "2023-10-13T05:28:04.399076Z",
     "shell.execute_reply": "2023-10-13T05:28:04.397691Z"
    },
    "papermill": {
     "duration": 0.655231,
     "end_time": "2023-10-13T05:28:04.402321",
     "exception": false,
     "start_time": "2023-10-13T05:28:03.747090",
     "status": "completed"
    },
    "tags": []
   },
   "outputs": [
    {
     "data": {
      "image/png": "[encoded data removed]",
      "text/plain": [
       "<Figure size 3000x1500 with 1 Axes>"
      ]
     },
     "metadata": {},
     "output_type": "display_data"
    }
   ],
   "source": [
    "# Create a histogram of genre distribution\n",
    "plt.figure(figsize=(30, 15))\n",
    "plt.hist(df[\"Genre\"],bins =27 , color='blue', alpha=0.7)\n",
    "plt.title(\"Genre count\")\n",
    "plt.xlabel(\"Genres\")\n",
    "plt.ylabel(\"count\")\n",
    "plt.xticks(rotation=90)\n",
    "plt.show()"
   ]
  },
  {
   "cell_type": "code",
   "execution_count": 22,
   "id": "051f91f4",
   "metadata": {
    "execution": {
     "iopub.execute_input": "2023-10-13T05:28:04.426796Z",
     "iopub.status.busy": "2023-10-13T05:28:04.426153Z",
     "iopub.status.idle": "2023-10-13T05:28:04.460105Z",
     "shell.execute_reply": "2023-10-13T05:28:04.458854Z"
    },
    "papermill": {
     "duration": 0.049853,
     "end_time": "2023-10-13T05:28:04.462981",
     "exception": false,
     "start_time": "2023-10-13T05:28:04.413128",
     "status": "completed"
    },
    "tags": []
   },
   "outputs": [
    {
     "data": {
      "text/plain": [
       "[' action ',\n",
       " ' adult ',\n",
       " ' adventure ',\n",
       " ' animation ',\n",
       " ' biography ',\n",
       " ' comedy ',\n",
       " ' crime ',\n",
       " ' documentary ',\n",
       " ' drama ',\n",
       " ' family ',\n",
       " ' fantasy ',\n",
       " ' game-show ',\n",
       " ' history ',\n",
       " ' horror ',\n",
       " ' music ',\n",
       " ' musical ',\n",
       " ' mystery ',\n",
       " ' news ',\n",
       " ' reality-tv ',\n",
       " ' romance ',\n",
       " ' sci-fi ',\n",
       " ' short ',\n",
       " ' sport ',\n",
       " ' talk-show ',\n",
       " ' thriller ',\n",
       " ' war ',\n",
       " ' western ']"
      ]
     },
     "execution_count": 22,
     "metadata": {},
     "output_type": "execute_result"
    }
   ],
   "source": [
    "#Convert sentiment labels to numerical values for modeling\n",
    "from sklearn.preprocessing import LabelEncoder\n",
    "label_encoder = LabelEncoder()\n",
    "df['Genre_labencode'] = label_encoder.fit_transform(df['Genre'])\n",
    "df['Genre_labencode']\n",
    "\n",
    "class_labeles= list(label_encoder.classes_)\n",
    "class_labeles   "
   ]
  },
  {
   "cell_type": "code",
   "execution_count": 23,
   "id": "5b868cd3",
   "metadata": {
    "execution": {
     "iopub.execute_input": "2023-10-13T05:28:04.557843Z",
     "iopub.status.busy": "2023-10-13T05:28:04.557375Z",
     "iopub.status.idle": "2023-10-13T05:28:04.572898Z",
     "shell.execute_reply": "2023-10-13T05:28:04.571481Z"
    },
    "papermill": {
     "duration": 0.029518,
     "end_time": "2023-10-13T05:28:04.575534",
     "exception": false,
     "start_time": "2023-10-13T05:28:04.546016",
     "status": "completed"
    },
    "tags": []
   },
   "outputs": [
    {
     "data": {
      "text/html": [
       "<div>\n",
       "<style scoped>\n",
       "    .dataframe tbody tr th:only-of-type {\n",
       "        vertical-align: middle;\n",
       "    }\n",
       "\n",
       "    .dataframe tbody tr th {\n",
       "        vertical-align: top;\n",
       "    }\n",
       "\n",
       "    .dataframe thead th {\n",
       "        text-align: right;\n",
       "    }\n",
       "</style>\n",
       "<table border=\"1\" class=\"dataframe\">\n",
       "  <thead>\n",
       "    <tr style=\"text-align: right;\">\n",
       "      <th></th>\n",
       "      <th>id</th>\n",
       "      <th>Name</th>\n",
       "      <th>Genre</th>\n",
       "      <th>Description</th>\n",
       "      <th>Despcription_processing</th>\n",
       "      <th>Genre_labencode</th>\n",
       "    </tr>\n",
       "  </thead>\n",
       "  <tbody>\n",
       "    <tr>\n",
       "      <th>0</th>\n",
       "      <td>1</td>\n",
       "      <td>Oscar et la dame rose (2009)</td>\n",
       "      <td>drama</td>\n",
       "      <td>Listening in to a conversation between his do...</td>\n",
       "      <td>listening conversation doctor parents 10yearol...</td>\n",
       "      <td>8</td>\n",
       "    </tr>\n",
       "    <tr>\n",
       "      <th>1</th>\n",
       "      <td>2</td>\n",
       "      <td>Cupid (1997)</td>\n",
       "      <td>thriller</td>\n",
       "      <td>A brother and sister with a past incestuous r...</td>\n",
       "      <td>brother sister past incestuous relationship cu...</td>\n",
       "      <td>24</td>\n",
       "    </tr>\n",
       "    <tr>\n",
       "      <th>2</th>\n",
       "      <td>3</td>\n",
       "      <td>Young, Wild and Wonderful (1980)</td>\n",
       "      <td>adult</td>\n",
       "      <td>As the bus empties the students for their fie...</td>\n",
       "      <td>bus empties students field trip museum natural...</td>\n",
       "      <td>1</td>\n",
       "    </tr>\n",
       "    <tr>\n",
       "      <th>3</th>\n",
       "      <td>4</td>\n",
       "      <td>The Secret Sin (1915)</td>\n",
       "      <td>drama</td>\n",
       "      <td>To help their unemployed father make ends mee...</td>\n",
       "      <td>help unemployed father make ends meet edith tw...</td>\n",
       "      <td>8</td>\n",
       "    </tr>\n",
       "    <tr>\n",
       "      <th>4</th>\n",
       "      <td>5</td>\n",
       "      <td>The Unrecovered (2007)</td>\n",
       "      <td>drama</td>\n",
       "      <td>The film's title refers not only to the un-re...</td>\n",
       "      <td>films title refers unrecovered bodies ground z...</td>\n",
       "      <td>8</td>\n",
       "    </tr>\n",
       "  </tbody>\n",
       "</table>\n",
       "</div>"
      ],
      "text/plain": [
       "   id                                Name       Genre  \\\n",
       "0   1       Oscar et la dame rose (2009)       drama    \n",
       "1   2                       Cupid (1997)    thriller    \n",
       "2   3   Young, Wild and Wonderful (1980)       adult    \n",
       "3   4              The Secret Sin (1915)       drama    \n",
       "4   5             The Unrecovered (2007)       drama    \n",
       "\n",
       "                                         Description  \\\n",
       "0   Listening in to a conversation between his do...   \n",
       "1   A brother and sister with a past incestuous r...   \n",
       "2   As the bus empties the students for their fie...   \n",
       "3   To help their unemployed father make ends mee...   \n",
       "4   The film's title refers not only to the un-re...   \n",
       "\n",
       "                             Despcription_processing  Genre_labencode  \n",
       "0  listening conversation doctor parents 10yearol...                8  \n",
       "1  brother sister past incestuous relationship cu...               24  \n",
       "2  bus empties students field trip museum natural...                1  \n",
       "3  help unemployed father make ends meet edith tw...                8  \n",
       "4  films title refers unrecovered bodies ground z...                8  "
      ]
     },
     "execution_count": 23,
     "metadata": {},
     "output_type": "execute_result"
    }
   ],
   "source": [
    "df.head()"
   ]
  },
  {
   "cell_type": "code",
   "execution_count": 24,
   "id": "e0ed6380",
   "metadata": {
    "execution": {
     "iopub.execute_input": "2023-10-13T05:28:04.598599Z",
     "iopub.status.busy": "2023-10-13T05:28:04.597180Z",
     "iopub.status.idle": "2023-10-13T05:28:04.604139Z",
     "shell.execute_reply": "2023-10-13T05:28:04.602873Z"
    },
    "papermill": {
     "duration": 0.02131,
     "end_time": "2023-10-13T05:28:04.606950",
     "exception": false,
     "start_time": "2023-10-13T05:28:04.585640",
     "status": "completed"
    },
    "tags": []
   },
   "outputs": [],
   "source": [
    "# Separating features and Target\n",
    "x = df[\"Despcription_processing\"]\n",
    "y = df[\"Genre\"]\n"
   ]
  },
  {
   "cell_type": "markdown",
   "id": "1336eb84",
   "metadata": {
    "papermill": {
     "duration": 0.009592,
     "end_time": "2023-10-13T05:28:04.626473",
     "exception": false,
     "start_time": "2023-10-13T05:28:04.616881",
     "status": "completed"
    },
    "tags": []
   },
   "source": [
    "# Spliting training and test data"
   ]
  },
  {
   "cell_type": "code",
   "execution_count": 25,
   "id": "17f4e722",
   "metadata": {
    "execution": {
     "iopub.execute_input": "2023-10-13T05:28:04.648953Z",
     "iopub.status.busy": "2023-10-13T05:28:04.648155Z",
     "iopub.status.idle": "2023-10-13T05:28:04.683264Z",
     "shell.execute_reply": "2023-10-13T05:28:04.681593Z"
    },
    "papermill": {
     "duration": 0.049895,
     "end_time": "2023-10-13T05:28:04.686354",
     "exception": false,
     "start_time": "2023-10-13T05:28:04.636459",
     "status": "completed"
    },
    "tags": []
   },
   "outputs": [],
   "source": [
    "x_train ,x_test ,y_train ,y_test = train_test_split(x ,y ,test_size = 0.3, random_state=2)"
   ]
  },
  {
   "cell_type": "markdown",
   "id": "d9d0bc84",
   "metadata": {
    "papermill": {
     "duration": 0.009596,
     "end_time": "2023-10-13T05:28:04.706787",
     "exception": false,
     "start_time": "2023-10-13T05:28:04.697191",
     "status": "completed"
    },
    "tags": []
   },
   "source": [
    "# Model Training"
   ]
  },
  {
   "cell_type": "code",
   "execution_count": 26,
   "id": "2f15ad7c",
   "metadata": {
    "execution": {
     "iopub.execute_input": "2023-10-13T05:28:04.728547Z",
     "iopub.status.busy": "2023-10-13T05:28:04.728073Z",
     "iopub.status.idle": "2023-10-13T05:28:12.538455Z",
     "shell.execute_reply": "2023-10-13T05:28:12.537364Z"
    },
    "papermill": {
     "duration": 7.825748,
     "end_time": "2023-10-13T05:28:12.542337",
     "exception": false,
     "start_time": "2023-10-13T05:28:04.716589",
     "status": "completed"
    },
    "tags": []
   },
   "outputs": [],
   "source": [
    "#Create a TF-IDF vectorizer\n",
    "tfidf_vectorizer = TfidfVectorizer()  \n",
    "\n",
    "# Fit and transform the TF-IDF vectorizer on the training data\n",
    "X_train_tfidf = tfidf_vectorizer.fit_transform(x_train)\n",
    "\n",
    "# Transform the test data using the same vectorizer\n",
    "X_test_tfidf = tfidf_vectorizer.transform(x_test)\n"
   ]
  },
  {
   "cell_type": "markdown",
   "id": "d3aca313",
   "metadata": {
    "papermill": {
     "duration": 0.009736,
     "end_time": "2023-10-13T05:28:12.564939",
     "exception": false,
     "start_time": "2023-10-13T05:28:12.555203",
     "status": "completed"
    },
    "tags": []
   },
   "source": [
    "# MultinomialNB"
   ]
  },
  {
   "cell_type": "code",
   "execution_count": 27,
   "id": "a62c7fad",
   "metadata": {
    "execution": {
     "iopub.execute_input": "2023-10-13T05:28:12.586871Z",
     "iopub.status.busy": "2023-10-13T05:28:12.586156Z",
     "iopub.status.idle": "2023-10-13T05:28:14.798797Z",
     "shell.execute_reply": "2023-10-13T05:28:14.797359Z"
    },
    "papermill": {
     "duration": 2.226805,
     "end_time": "2023-10-13T05:28:14.801657",
     "exception": false,
     "start_time": "2023-10-13T05:28:12.574852",
     "status": "completed"
    },
    "tags": []
   },
   "outputs": [
    {
     "name": "stdout",
     "output_type": "stream",
     "text": [
      "Model Score on Training data 0.4695937487646431\n",
      "Model Score on Training data 0.44006149116064563\n",
      "               precision    recall  f1-score   support\n",
      "\n",
      "      action        0.00      0.00      0.00         0\n",
      "       adult        0.00      0.00      0.00         0\n",
      "   adventure        0.00      0.00      0.00         0\n",
      "   animation        0.00      0.00      0.00         0\n",
      "   biography        0.00      0.00      0.00         0\n",
      "      comedy        0.04      0.72      0.07       240\n",
      "       crime        0.00      0.00      0.00         0\n",
      " documentary        0.90      0.53      0.67     13127\n",
      "       drama        0.88      0.37      0.52     19147\n",
      "      family        0.00      0.00      0.00         0\n",
      "     fantasy        0.00      0.00      0.00         0\n",
      "   game-show        0.00      0.00      0.00         0\n",
      "     history        0.00      0.00      0.00         0\n",
      "      horror        0.00      0.00      0.00         0\n",
      "       music        0.00      0.00      0.00         0\n",
      "     musical        0.00      0.00      0.00         0\n",
      "     mystery        0.00      0.00      0.00         0\n",
      "        news        0.00      0.00      0.00         0\n",
      "  reality-tv        0.00      0.00      0.00         0\n",
      "     romance        0.00      0.00      0.00         0\n",
      "      sci-fi        0.00      0.00      0.00         0\n",
      "       short        0.00      1.00      0.01         9\n",
      "       sport        0.00      0.00      0.00         0\n",
      "   talk-show        0.00      0.00      0.00         0\n",
      "    thriller        0.00      0.00      0.00         0\n",
      "         war        0.00      0.00      0.00         0\n",
      "     western        0.00      1.00      0.01         2\n",
      "\n",
      "     accuracy                           0.44     32525\n",
      "    macro avg       0.07      0.13      0.05     32525\n",
      " weighted avg       0.88      0.44      0.58     32525\n",
      "\n"
     ]
    }
   ],
   "source": [
    "mnb = MultinomialNB()\n",
    "mnb.fit(X_train_tfidf ,y_train)\n",
    "print(\"Model Score on Training data\",mnb.score(X_train_tfidf ,y_train))\n",
    "print(\"Model Score on Training data\",mnb.score(X_test_tfidf ,y_test))\n",
    "y_pred = mnb.predict(X_test_tfidf)\n",
    "print(classification_report(y_pred ,y_test))"
   ]
  },
  {
   "cell_type": "markdown",
   "id": "a2d4b2e6",
   "metadata": {
    "papermill": {
     "duration": 0.009397,
     "end_time": "2023-10-13T05:28:14.821491",
     "exception": false,
     "start_time": "2023-10-13T05:28:14.812094",
     "status": "completed"
    },
    "tags": []
   },
   "source": [
    "# LogisticRegression"
   ]
  },
  {
   "cell_type": "code",
   "execution_count": 28,
   "id": "22095764",
   "metadata": {
    "execution": {
     "iopub.execute_input": "2023-10-13T05:28:14.843146Z",
     "iopub.status.busy": "2023-10-13T05:28:14.842767Z",
     "iopub.status.idle": "2023-10-13T05:31:06.904863Z",
     "shell.execute_reply": "2023-10-13T05:31:06.903711Z"
    },
    "papermill": {
     "duration": 172.088039,
     "end_time": "2023-10-13T05:31:06.919420",
     "exception": false,
     "start_time": "2023-10-13T05:28:14.831381",
     "status": "completed"
    },
    "tags": []
   },
   "outputs": [
    {
     "data": {
      "text/html": [
       "<style>#sk-container-id-1 {color: black;background-color: white;}#sk-container-id-1 pre{padding: 0;}#sk-container-id-1 div.sk-toggleable {background-color: white;}#sk-container-id-1 label.sk-toggleable__label {cursor: pointer;display: block;width: 100%;margin-bottom: 0;padding: 0.3em;box-sizing: border-box;text-align: center;}#sk-container-id-1 label.sk-toggleable__label-arrow:before {content: \"▸\";float: left;margin-right: 0.25em;color: #696969;}#sk-container-id-1 label.sk-toggleable__label-arrow:hover:before {color: black;}#sk-container-id-1 div.sk-estimator:hover label.sk-toggleable__label-arrow:before {color: black;}#sk-container-id-1 div.sk-toggleable__content {max-height: 0;max-width: 0;overflow: hidden;text-align: left;background-color: #f0f8ff;}#sk-container-id-1 div.sk-toggleable__content pre {margin: 0.2em;color: black;border-radius: 0.25em;background-color: #f0f8ff;}#sk-container-id-1 input.sk-toggleable__control:checked~div.sk-toggleable__content {max-height: 200px;max-width: 100%;overflow: auto;}#sk-container-id-1 input.sk-toggleable__control:checked~label.sk-toggleable__label-arrow:before {content: \"▾\";}#sk-container-id-1 div.sk-estimator input.sk-toggleable__control:checked~label.sk-toggleable__label {background-color: #d4ebff;}#sk-container-id-1 div.sk-label input.sk-toggleable__control:checked~label.sk-toggleable__label {background-color: #d4ebff;}#sk-container-id-1 input.sk-hidden--visually {border: 0;clip: rect(1px 1px 1px 1px);clip: rect(1px, 1px, 1px, 1px);height: 1px;margin: -1px;overflow: hidden;padding: 0;position: absolute;width: 1px;}#sk-container-id-1 div.sk-estimator {font-family: monospace;background-color: #f0f8ff;border: 1px dotted black;border-radius: 0.25em;box-sizing: border-box;margin-bottom: 0.5em;}#sk-container-id-1 div.sk-estimator:hover {background-color: #d4ebff;}#sk-container-id-1 div.sk-parallel-item::after {content: \"\";width: 100%;border-bottom: 1px solid gray;flex-grow: 1;}#sk-container-id-1 div.sk-label:hover label.sk-toggleable__label {background-color: #d4ebff;}#sk-container-id-1 div.sk-serial::before {content: \"\";position: absolute;border-left: 1px solid gray;box-sizing: border-box;top: 0;bottom: 0;left: 50%;z-index: 0;}#sk-container-id-1 div.sk-serial {display: flex;flex-direction: column;align-items: center;background-color: white;padding-right: 0.2em;padding-left: 0.2em;position: relative;}#sk-container-id-1 div.sk-item {position: relative;z-index: 1;}#sk-container-id-1 div.sk-parallel {display: flex;align-items: stretch;justify-content: center;background-color: white;position: relative;}#sk-container-id-1 div.sk-item::before, #sk-container-id-1 div.sk-parallel-item::before {content: \"\";position: absolute;border-left: 1px solid gray;box-sizing: border-box;top: 0;bottom: 0;left: 50%;z-index: -1;}#sk-container-id-1 div.sk-parallel-item {display: flex;flex-direction: column;z-index: 1;position: relative;background-color: white;}#sk-container-id-1 div.sk-parallel-item:first-child::after {align-self: flex-end;width: 50%;}#sk-container-id-1 div.sk-parallel-item:last-child::after {align-self: flex-start;width: 50%;}#sk-container-id-1 div.sk-parallel-item:only-child::after {width: 0;}#sk-container-id-1 div.sk-dashed-wrapped {border: 1px dashed gray;margin: 0 0.4em 0.5em 0.4em;box-sizing: border-box;padding-bottom: 0.4em;background-color: white;}#sk-container-id-1 div.sk-label label {font-family: monospace;font-weight: bold;display: inline-block;line-height: 1.2em;}#sk-container-id-1 div.sk-label-container {text-align: center;}#sk-container-id-1 div.sk-container {/* jupyter's `normalize.less` sets `[hidden] { display: none; }` but bootstrap.min.css set `[hidden] { display: none !important; }` so we also need the `!important` here to be able to override the default hidden behavior on the sphinx rendered scikit-learn.org. See: https://github.com/scikit-learn/scikit-learn/issues/21755 */display: inline-block !important;position: relative;}#sk-container-id-1 div.sk-text-repr-fallback {display: none;}</style><div id=\"sk-container-id-1\" class=\"sk-top-container\"><div class=\"sk-text-repr-fallback\"><pre>LogisticRegression()</pre><b>In a Jupyter environment, please rerun this cell to show the HTML representation or trust the notebook. <br />On GitHub, the HTML representation is unable to render, please try loading this page with nbviewer.org.</b></div><div class=\"sk-container\" hidden><div class=\"sk-item\"><div class=\"sk-estimator sk-toggleable\"><input class=\"sk-toggleable__control sk-hidden--visually\" id=\"sk-estimator-id-1\" type=\"checkbox\" checked><label for=\"sk-estimator-id-1\" class=\"sk-toggleable__label sk-toggleable__label-arrow\">LogisticRegression</label><div class=\"sk-toggleable__content\"><pre>LogisticRegression()</pre></div></div></div></div></div>"
      ],
      "text/plain": [
       "LogisticRegression()"
      ]
     },
     "execution_count": 28,
     "metadata": {},
     "output_type": "execute_result"
    }
   ],
   "source": [
    "model = LogisticRegression()\n",
    "model.fit(X_train_tfidf ,y_train)"
   ]
  },
  {
   "cell_type": "code",
   "execution_count": 29,
   "id": "59e7f8fe",
   "metadata": {
    "execution": {
     "iopub.execute_input": "2023-10-13T05:31:06.946266Z",
     "iopub.status.busy": "2023-10-13T05:31:06.945427Z",
     "iopub.status.idle": "2023-10-13T05:31:07.019876Z",
     "shell.execute_reply": "2023-10-13T05:31:07.018210Z"
    },
    "papermill": {
     "duration": 0.091318,
     "end_time": "2023-10-13T05:31:07.023115",
     "exception": false,
     "start_time": "2023-10-13T05:31:06.931797",
     "status": "completed"
    },
    "tags": []
   },
   "outputs": [],
   "source": [
    "# predictions model\n",
    "y_pred = model.predict(X_test_tfidf)\n"
   ]
  },
  {
   "cell_type": "code",
   "execution_count": 30,
   "id": "0c5c89b8",
   "metadata": {
    "execution": {
     "iopub.execute_input": "2023-10-13T05:31:07.046723Z",
     "iopub.status.busy": "2023-10-13T05:31:07.046206Z",
     "iopub.status.idle": "2023-10-13T05:31:08.359350Z",
     "shell.execute_reply": "2023-10-13T05:31:08.357367Z"
    },
    "papermill": {
     "duration": 1.328451,
     "end_time": "2023-10-13T05:31:08.362461",
     "exception": false,
     "start_time": "2023-10-13T05:31:07.034010",
     "status": "completed"
    },
    "tags": []
   },
   "outputs": [
    {
     "name": "stdout",
     "output_type": "stream",
     "text": [
      "Accuracy: 0.60\n",
      "               precision    recall  f1-score   support\n",
      "\n",
      "      action        0.52      0.30      0.38       807\n",
      "       adult        0.76      0.27      0.40       384\n",
      "   adventure        0.54      0.19      0.28       454\n",
      "   animation        0.77      0.03      0.06       331\n",
      "   biography        0.00      0.00      0.00       140\n",
      "      comedy        0.55      0.62      0.58      4503\n",
      "       crime        0.28      0.02      0.04       320\n",
      " documentary        0.69      0.86      0.77      7799\n",
      "       drama        0.56      0.78      0.65      8052\n",
      "      family        0.46      0.11      0.17       489\n",
      "     fantasy        0.42      0.03      0.05       190\n",
      "   game-show        0.89      0.50      0.64       117\n",
      "     history        0.00      0.00      0.00       139\n",
      "      horror        0.67      0.61      0.64      1392\n",
      "       music        0.67      0.56      0.61       445\n",
      "     musical        0.00      0.00      0.00       159\n",
      "     mystery        0.00      0.00      0.00       210\n",
      "        news        0.83      0.05      0.09       102\n",
      "  reality-tv        0.50      0.22      0.30       555\n",
      "     romance        0.20      0.01      0.02       425\n",
      "      sci-fi        0.62      0.32      0.42       371\n",
      "       short        0.49      0.35      0.41      3041\n",
      "       sport        0.72      0.26      0.38       244\n",
      "   talk-show        0.48      0.21      0.29       226\n",
      "    thriller        0.40      0.17      0.24       935\n",
      "         war        1.00      0.02      0.03        66\n",
      "     western        0.90      0.75      0.82       629\n",
      "\n",
      "     accuracy                           0.60     32525\n",
      "    macro avg       0.52      0.27      0.31     32525\n",
      " weighted avg       0.58      0.60      0.56     32525\n",
      "\n"
     ]
    }
   ],
   "source": [
    "# Evaluate the model's performance\n",
    "accuracy = accuracy_score(y_test, y_pred)\n",
    "print(f'Accuracy: {accuracy:.2f}')\n",
    "\n",
    "# print a classification report \n",
    "print(classification_report(y_test, y_pred))"
   ]
  },
  {
   "cell_type": "code",
   "execution_count": null,
   "id": "4b836162",
   "metadata": {
    "papermill": {
     "duration": 0.012091,
     "end_time": "2023-10-13T05:31:08.386699",
     "exception": false,
     "start_time": "2023-10-13T05:31:08.374608",
     "status": "completed"
    },
    "tags": []
   },
   "outputs": [],
   "source": []
  }
 ],
 "metadata": {
  "kernelspec": {
   "display_name": "Python 3",
   "language": "python",
   "name": "python3"
  },
  "language_info": {
   "codemirror_mode": {
    "name": "ipython",
    "version": 3
   },
   "file_extension": ".py",
   "mimetype": "text/x-python",
   "name": "python",
   "nbconvert_exporter": "python",
   "pygments_lexer": "ipython3",
   "version": "3.10.12"
  },
  "papermill": {
   "default_parameters": {},
   "duration": 254.044144,
   "end_time": "2023-10-13T05:31:09.630749",
   "environment_variables": {},
   "exception": null,
   "input_path": "__notebook__.ipynb",
   "output_path": "__notebook__.ipynb",
   "parameters": {},
   "start_time": "2023-10-13T05:26:55.586605",
   "version": "2.4.0"
  }
 },
 "nbformat": 4,
 "nbformat_minor": 5
}
