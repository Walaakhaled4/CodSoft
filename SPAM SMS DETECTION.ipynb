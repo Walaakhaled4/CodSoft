{
 "cells": [
  {
   "cell_type": "code",
   "execution_count": 1,
   "metadata": {
    "_cell_guid": "b1076dfc-b9ad-4769-8c92-a6c4dae69d19",
    "_uuid": "8f2839f25d086af736a60e9eeb907d3b93b6e0e5",
    "execution": {
     "iopub.execute_input": "2023-10-02T20:51:33.584932Z",
     "iopub.status.busy": "2023-10-02T20:51:33.584210Z",
     "iopub.status.idle": "2023-10-02T20:51:33.952260Z",
     "shell.execute_reply": "2023-10-02T20:51:33.951103Z",
     "shell.execute_reply.started": "2023-10-02T20:51:33.584899Z"
    }
   },
   "outputs": [
    {
     "name": "stdout",
     "output_type": "stream",
     "text": [
      "/kaggle/input/sms-spam-collection-dataset/spam.csv\n"
     ]
    }
   ],
   "source": [
    "# This Python 3 environment comes with many helpful analytics libraries installed\n",
    "# It is defined by the kaggle/python Docker image: https://github.com/kaggle/docker-python\n",
    "# For example, here's several helpful packages to load\n",
    "\n",
    "import numpy as np # linear algebra\n",
    "import pandas as pd # data processing, CSV file I/O (e.g. pd.read_csv)\n",
    "\n",
    "# Input data files are available in the read-only \"../input/\" directory\n",
    "# For example, running this (by clicking run or pressing Shift+Enter) will list all files under the input directory\n",
    "\n",
    "import os\n",
    "for dirname, _, filenames in os.walk('/kaggle/input'):\n",
    "    for filename in filenames:\n",
    "        print(os.path.join(dirname, filename))\n",
    "\n",
    "# You can write up to 20GB to the current directory (/kaggle/working/) that gets preserved as output when you create a version using \"Save & Run All\" \n",
    "# You can also write temporary files to /kaggle/temp/, but they won't be saved outside of the current session"
   ]
  },
  {
   "cell_type": "code",
   "execution_count": 2,
   "metadata": {
    "execution": {
     "iopub.execute_input": "2023-10-02T20:52:37.085556Z",
     "iopub.status.busy": "2023-10-02T20:52:37.085107Z",
     "iopub.status.idle": "2023-10-02T20:52:38.558089Z",
     "shell.execute_reply": "2023-10-02T20:52:38.557067Z",
     "shell.execute_reply.started": "2023-10-02T20:52:37.085529Z"
    }
   },
   "outputs": [],
   "source": [
    "# Importing required libraries\n",
    "import pandas as pd\n",
    "import numpy as np\n",
    "import matplotlib.pyplot as plt\n",
    "import seaborn as sns\n",
    "import re\n",
    "from nltk.tokenize import word_tokenize\n",
    "from nltk.stem import WordNetLemmatizer\n",
    "from nltk.corpus import stopwords\n",
    "from wordcloud import WordCloud\n",
    "from sklearn.linear_model import LogisticRegression\n",
    "from sklearn.feature_extraction.text import CountVectorizer\n",
    "from sklearn.feature_extraction.text import TfidfVectorizer\n",
    "from sklearn.naive_bayes import MultinomialNB\n",
    "from sklearn.svm import SVC\n",
    "from sklearn.metrics import accuracy_score, classification_report\n",
    "from sklearn.model_selection import train_test_split\n",
    "from sklearn.metrics import classification_report,confusion_matrix,ConfusionMatrixDisplay"
   ]
  },
  {
   "cell_type": "code",
   "execution_count": 3,
   "metadata": {
    "execution": {
     "iopub.execute_input": "2023-10-02T20:52:53.587459Z",
     "iopub.status.busy": "2023-10-02T20:52:53.587066Z",
     "iopub.status.idle": "2023-10-02T20:52:53.592249Z",
     "shell.execute_reply": "2023-10-02T20:52:53.591242Z",
     "shell.execute_reply.started": "2023-10-02T20:52:53.587429Z"
    }
   },
   "outputs": [],
   "source": [
    "import warnings\n",
    "\n",
    "# Ignore all warnings\n",
    "warnings.filterwarnings(\"ignore\")"
   ]
  },
  {
   "cell_type": "code",
   "execution_count": 5,
   "metadata": {
    "execution": {
     "iopub.execute_input": "2023-10-02T20:54:14.329364Z",
     "iopub.status.busy": "2023-10-02T20:54:14.328982Z",
     "iopub.status.idle": "2023-10-02T20:54:14.355704Z",
     "shell.execute_reply": "2023-10-02T20:54:14.354908Z",
     "shell.execute_reply.started": "2023-10-02T20:54:14.329337Z"
    }
   },
   "outputs": [],
   "source": [
    "# Read data\n",
    "\n",
    "train_data = pd.read_csv(\"/kaggle/input/sms-spam-collection-dataset/spam.csv\",encoding='ISO-8859-1')"
   ]
  },
  {
   "cell_type": "code",
   "execution_count": 6,
   "metadata": {
    "execution": {
     "iopub.execute_input": "2023-10-02T20:54:34.466944Z",
     "iopub.status.busy": "2023-10-02T20:54:34.466577Z",
     "iopub.status.idle": "2023-10-02T20:54:34.488942Z",
     "shell.execute_reply": "2023-10-02T20:54:34.488200Z",
     "shell.execute_reply.started": "2023-10-02T20:54:34.466913Z"
    }
   },
   "outputs": [
    {
     "data": {
      "text/html": [
       "<div>\n",
       "<style scoped>\n",
       "    .dataframe tbody tr th:only-of-type {\n",
       "        vertical-align: middle;\n",
       "    }\n",
       "\n",
       "    .dataframe tbody tr th {\n",
       "        vertical-align: top;\n",
       "    }\n",
       "\n",
       "    .dataframe thead th {\n",
       "        text-align: right;\n",
       "    }\n",
       "</style>\n",
       "<table border=\"1\" class=\"dataframe\">\n",
       "  <thead>\n",
       "    <tr style=\"text-align: right;\">\n",
       "      <th></th>\n",
       "      <th>v1</th>\n",
       "      <th>v2</th>\n",
       "      <th>Unnamed: 2</th>\n",
       "      <th>Unnamed: 3</th>\n",
       "      <th>Unnamed: 4</th>\n",
       "    </tr>\n",
       "  </thead>\n",
       "  <tbody>\n",
       "    <tr>\n",
       "      <th>0</th>\n",
       "      <td>ham</td>\n",
       "      <td>Go until jurong point, crazy.. Available only ...</td>\n",
       "      <td>NaN</td>\n",
       "      <td>NaN</td>\n",
       "      <td>NaN</td>\n",
       "    </tr>\n",
       "    <tr>\n",
       "      <th>1</th>\n",
       "      <td>ham</td>\n",
       "      <td>Ok lar... Joking wif u oni...</td>\n",
       "      <td>NaN</td>\n",
       "      <td>NaN</td>\n",
       "      <td>NaN</td>\n",
       "    </tr>\n",
       "    <tr>\n",
       "      <th>2</th>\n",
       "      <td>spam</td>\n",
       "      <td>Free entry in 2 a wkly comp to win FA Cup fina...</td>\n",
       "      <td>NaN</td>\n",
       "      <td>NaN</td>\n",
       "      <td>NaN</td>\n",
       "    </tr>\n",
       "    <tr>\n",
       "      <th>3</th>\n",
       "      <td>ham</td>\n",
       "      <td>U dun say so early hor... U c already then say...</td>\n",
       "      <td>NaN</td>\n",
       "      <td>NaN</td>\n",
       "      <td>NaN</td>\n",
       "    </tr>\n",
       "    <tr>\n",
       "      <th>4</th>\n",
       "      <td>ham</td>\n",
       "      <td>Nah I don't think he goes to usf, he lives aro...</td>\n",
       "      <td>NaN</td>\n",
       "      <td>NaN</td>\n",
       "      <td>NaN</td>\n",
       "    </tr>\n",
       "  </tbody>\n",
       "</table>\n",
       "</div>"
      ],
      "text/plain": [
       "     v1                                                 v2 Unnamed: 2  \\\n",
       "0   ham  Go until jurong point, crazy.. Available only ...        NaN   \n",
       "1   ham                      Ok lar... Joking wif u oni...        NaN   \n",
       "2  spam  Free entry in 2 a wkly comp to win FA Cup fina...        NaN   \n",
       "3   ham  U dun say so early hor... U c already then say...        NaN   \n",
       "4   ham  Nah I don't think he goes to usf, he lives aro...        NaN   \n",
       "\n",
       "  Unnamed: 3 Unnamed: 4  \n",
       "0        NaN        NaN  \n",
       "1        NaN        NaN  \n",
       "2        NaN        NaN  \n",
       "3        NaN        NaN  \n",
       "4        NaN        NaN  "
      ]
     },
     "execution_count": 6,
     "metadata": {},
     "output_type": "execute_result"
    }
   ],
   "source": [
    "#view first 5 rows train data\n",
    "train_data.head()"
   ]
  },
  {
   "cell_type": "code",
   "execution_count": 7,
   "metadata": {
    "execution": {
     "iopub.execute_input": "2023-10-02T20:55:49.540117Z",
     "iopub.status.busy": "2023-10-02T20:55:49.539756Z",
     "iopub.status.idle": "2023-10-02T20:55:49.547372Z",
     "shell.execute_reply": "2023-10-02T20:55:49.546230Z",
     "shell.execute_reply.started": "2023-10-02T20:55:49.540088Z"
    }
   },
   "outputs": [
    {
     "data": {
      "text/plain": [
       "(5572, 5)"
      ]
     },
     "execution_count": 7,
     "metadata": {},
     "output_type": "execute_result"
    }
   ],
   "source": [
    "# check number of rows and columns of train data\n",
    "\n",
    "train_data.shape"
   ]
  },
  {
   "cell_type": "code",
   "execution_count": 8,
   "metadata": {
    "execution": {
     "iopub.execute_input": "2023-10-02T20:56:14.690383Z",
     "iopub.status.busy": "2023-10-02T20:56:14.689892Z",
     "iopub.status.idle": "2023-10-02T20:56:14.719516Z",
     "shell.execute_reply": "2023-10-02T20:56:14.718497Z",
     "shell.execute_reply.started": "2023-10-02T20:56:14.690351Z"
    }
   },
   "outputs": [
    {
     "name": "stdout",
     "output_type": "stream",
     "text": [
      "<class 'pandas.core.frame.DataFrame'>\n",
      "RangeIndex: 5572 entries, 0 to 5571\n",
      "Data columns (total 5 columns):\n",
      " #   Column      Non-Null Count  Dtype \n",
      "---  ------      --------------  ----- \n",
      " 0   v1          5572 non-null   object\n",
      " 1   v2          5572 non-null   object\n",
      " 2   Unnamed: 2  50 non-null     object\n",
      " 3   Unnamed: 3  12 non-null     object\n",
      " 4   Unnamed: 4  6 non-null      object\n",
      "dtypes: object(5)\n",
      "memory usage: 217.8+ KB\n"
     ]
    }
   ],
   "source": [
    "# to get infomation about the  train data\n",
    "train_data.info()"
   ]
  },
  {
   "cell_type": "markdown",
   "metadata": {},
   "source": [
    "# preprocessing"
   ]
  },
  {
   "cell_type": "code",
   "execution_count": 11,
   "metadata": {
    "execution": {
     "iopub.execute_input": "2023-10-02T21:02:03.165862Z",
     "iopub.status.busy": "2023-10-02T21:02:03.165455Z",
     "iopub.status.idle": "2023-10-02T21:02:03.173861Z",
     "shell.execute_reply": "2023-10-02T21:02:03.172720Z",
     "shell.execute_reply.started": "2023-10-02T21:02:03.165829Z"
    }
   },
   "outputs": [],
   "source": [
    "train_data=train_data.drop(columns=train_data.columns[2:5],axis=1)"
   ]
  },
  {
   "cell_type": "code",
   "execution_count": 12,
   "metadata": {
    "execution": {
     "iopub.execute_input": "2023-10-02T21:02:58.815129Z",
     "iopub.status.busy": "2023-10-02T21:02:58.814768Z",
     "iopub.status.idle": "2023-10-02T21:02:58.823754Z",
     "shell.execute_reply": "2023-10-02T21:02:58.822769Z",
     "shell.execute_reply.started": "2023-10-02T21:02:58.815097Z"
    }
   },
   "outputs": [
    {
     "data": {
      "text/html": [
       "<div>\n",
       "<style scoped>\n",
       "    .dataframe tbody tr th:only-of-type {\n",
       "        vertical-align: middle;\n",
       "    }\n",
       "\n",
       "    .dataframe tbody tr th {\n",
       "        vertical-align: top;\n",
       "    }\n",
       "\n",
       "    .dataframe thead th {\n",
       "        text-align: right;\n",
       "    }\n",
       "</style>\n",
       "<table border=\"1\" class=\"dataframe\">\n",
       "  <thead>\n",
       "    <tr style=\"text-align: right;\">\n",
       "      <th></th>\n",
       "      <th>v1</th>\n",
       "      <th>v2</th>\n",
       "    </tr>\n",
       "  </thead>\n",
       "  <tbody>\n",
       "    <tr>\n",
       "      <th>0</th>\n",
       "      <td>ham</td>\n",
       "      <td>Go until jurong point, crazy.. Available only ...</td>\n",
       "    </tr>\n",
       "    <tr>\n",
       "      <th>1</th>\n",
       "      <td>ham</td>\n",
       "      <td>Ok lar... Joking wif u oni...</td>\n",
       "    </tr>\n",
       "    <tr>\n",
       "      <th>2</th>\n",
       "      <td>spam</td>\n",
       "      <td>Free entry in 2 a wkly comp to win FA Cup fina...</td>\n",
       "    </tr>\n",
       "    <tr>\n",
       "      <th>3</th>\n",
       "      <td>ham</td>\n",
       "      <td>U dun say so early hor... U c already then say...</td>\n",
       "    </tr>\n",
       "    <tr>\n",
       "      <th>4</th>\n",
       "      <td>ham</td>\n",
       "      <td>Nah I don't think he goes to usf, he lives aro...</td>\n",
       "    </tr>\n",
       "  </tbody>\n",
       "</table>\n",
       "</div>"
      ],
      "text/plain": [
       "     v1                                                 v2\n",
       "0   ham  Go until jurong point, crazy.. Available only ...\n",
       "1   ham                      Ok lar... Joking wif u oni...\n",
       "2  spam  Free entry in 2 a wkly comp to win FA Cup fina...\n",
       "3   ham  U dun say so early hor... U c already then say...\n",
       "4   ham  Nah I don't think he goes to usf, he lives aro..."
      ]
     },
     "execution_count": 12,
     "metadata": {},
     "output_type": "execute_result"
    }
   ],
   "source": [
    "#view first 5 rows train data\n",
    "train_data.head()"
   ]
  },
  {
   "cell_type": "code",
   "execution_count": 13,
   "metadata": {
    "execution": {
     "iopub.execute_input": "2023-10-02T21:03:47.510554Z",
     "iopub.status.busy": "2023-10-02T21:03:47.510177Z",
     "iopub.status.idle": "2023-10-02T21:03:47.516963Z",
     "shell.execute_reply": "2023-10-02T21:03:47.516107Z",
     "shell.execute_reply.started": "2023-10-02T21:03:47.510522Z"
    }
   },
   "outputs": [
    {
     "data": {
      "text/plain": [
       "(5572, 2)"
      ]
     },
     "execution_count": 13,
     "metadata": {},
     "output_type": "execute_result"
    }
   ],
   "source": [
    "train_data.shape"
   ]
  },
  {
   "cell_type": "code",
   "execution_count": 14,
   "metadata": {
    "execution": {
     "iopub.execute_input": "2023-10-02T21:04:07.892904Z",
     "iopub.status.busy": "2023-10-02T21:04:07.892567Z",
     "iopub.status.idle": "2023-10-02T21:04:07.904181Z",
     "shell.execute_reply": "2023-10-02T21:04:07.903086Z",
     "shell.execute_reply.started": "2023-10-02T21:04:07.892877Z"
    }
   },
   "outputs": [
    {
     "name": "stdout",
     "output_type": "stream",
     "text": [
      "<class 'pandas.core.frame.DataFrame'>\n",
      "RangeIndex: 5572 entries, 0 to 5571\n",
      "Data columns (total 2 columns):\n",
      " #   Column  Non-Null Count  Dtype \n",
      "---  ------  --------------  ----- \n",
      " 0   v1      5572 non-null   object\n",
      " 1   v2      5572 non-null   object\n",
      "dtypes: object(2)\n",
      "memory usage: 87.2+ KB\n"
     ]
    }
   ],
   "source": [
    "train_data.info()"
   ]
  },
  {
   "cell_type": "code",
   "execution_count": 15,
   "metadata": {
    "execution": {
     "iopub.execute_input": "2023-10-02T21:04:36.757398Z",
     "iopub.status.busy": "2023-10-02T21:04:36.757034Z",
     "iopub.status.idle": "2023-10-02T21:04:36.766341Z",
     "shell.execute_reply": "2023-10-02T21:04:36.764969Z",
     "shell.execute_reply.started": "2023-10-02T21:04:36.757370Z"
    }
   },
   "outputs": [
    {
     "data": {
      "text/plain": [
       "v1    0\n",
       "v2    0\n",
       "dtype: int64"
      ]
     },
     "execution_count": 15,
     "metadata": {},
     "output_type": "execute_result"
    }
   ],
   "source": [
    "# checking missing values\n",
    "train_data.isnull().sum()"
   ]
  },
  {
   "cell_type": "code",
   "execution_count": 16,
   "metadata": {
    "execution": {
     "iopub.execute_input": "2023-10-02T21:05:03.385040Z",
     "iopub.status.busy": "2023-10-02T21:05:03.384713Z",
     "iopub.status.idle": "2023-10-02T21:05:03.397314Z",
     "shell.execute_reply": "2023-10-02T21:05:03.396285Z",
     "shell.execute_reply.started": "2023-10-02T21:05:03.385015Z"
    }
   },
   "outputs": [],
   "source": [
    "## Check for Duplicates and Remove \n",
    "train_data.duplicated().sum() \n",
    "train_data.drop_duplicates(inplace = True)  "
   ]
  },
  {
   "cell_type": "code",
   "execution_count": 17,
   "metadata": {
    "execution": {
     "iopub.execute_input": "2023-10-02T21:05:46.939099Z",
     "iopub.status.busy": "2023-10-02T21:05:46.938757Z",
     "iopub.status.idle": "2023-10-02T21:05:46.953957Z",
     "shell.execute_reply": "2023-10-02T21:05:46.953089Z",
     "shell.execute_reply.started": "2023-10-02T21:05:46.939073Z"
    }
   },
   "outputs": [],
   "source": [
    "## function to preprocess the data\n",
    "stopword = set(stopwords.words('english'))\n",
    "\n",
    "def preprocessing(text):\n",
    "    # Convert text to lowercase\n",
    "    text = text.lower()\n",
    "    \n",
    "    # Remove punctuation using regular expressions\n",
    "    text = re.sub(r'[^\\w\\s]', '', text)\n",
    "    \n",
    "    # Remove specific characters #, @, and $\n",
    "    text = re.sub(r'[#@\\$]', '', text)\n",
    "    \n",
    "    # tokenize and convert to list\n",
    "    tokens = word_tokenize(text)\n",
    "    \n",
    "    ## Lemmatize it \n",
    "    lemmatizer  = WordNetLemmatizer()\n",
    "    \n",
    "    ## lemmatize each token\n",
    "   # text = [lemmatizer.lemmatize(token) for token in tokens]\n",
    "    text = text.split()\n",
    "    \n",
    "    text = [word for word in text if word not in stopword]\n",
    "    \n",
    "    \n",
    "    return \" \".join(text) "
   ]
  },
  {
   "cell_type": "code",
   "execution_count": 20,
   "metadata": {
    "execution": {
     "iopub.execute_input": "2023-10-02T21:07:20.296272Z",
     "iopub.status.busy": "2023-10-02T21:07:20.295852Z",
     "iopub.status.idle": "2023-10-02T21:07:20.953612Z",
     "shell.execute_reply": "2023-10-02T21:07:20.951718Z",
     "shell.execute_reply.started": "2023-10-02T21:07:20.296238Z"
    }
   },
   "outputs": [],
   "source": [
    "# Create list of words in discription column\n",
    "train_data[\"v2_cleaning\"] =  train_data[\"v2\"].apply(preprocessing)"
   ]
  },
  {
   "cell_type": "code",
   "execution_count": 21,
   "metadata": {
    "execution": {
     "iopub.execute_input": "2023-10-02T21:07:38.126882Z",
     "iopub.status.busy": "2023-10-02T21:07:38.126528Z",
     "iopub.status.idle": "2023-10-02T21:07:38.137537Z",
     "shell.execute_reply": "2023-10-02T21:07:38.136447Z",
     "shell.execute_reply.started": "2023-10-02T21:07:38.126856Z"
    }
   },
   "outputs": [
    {
     "data": {
      "text/html": [
       "<div>\n",
       "<style scoped>\n",
       "    .dataframe tbody tr th:only-of-type {\n",
       "        vertical-align: middle;\n",
       "    }\n",
       "\n",
       "    .dataframe tbody tr th {\n",
       "        vertical-align: top;\n",
       "    }\n",
       "\n",
       "    .dataframe thead th {\n",
       "        text-align: right;\n",
       "    }\n",
       "</style>\n",
       "<table border=\"1\" class=\"dataframe\">\n",
       "  <thead>\n",
       "    <tr style=\"text-align: right;\">\n",
       "      <th></th>\n",
       "      <th>v1</th>\n",
       "      <th>v2</th>\n",
       "      <th>v2_cleaning</th>\n",
       "    </tr>\n",
       "  </thead>\n",
       "  <tbody>\n",
       "    <tr>\n",
       "      <th>0</th>\n",
       "      <td>ham</td>\n",
       "      <td>Go until jurong point, crazy.. Available only ...</td>\n",
       "      <td>go jurong point crazy available bugis n great ...</td>\n",
       "    </tr>\n",
       "    <tr>\n",
       "      <th>1</th>\n",
       "      <td>ham</td>\n",
       "      <td>Ok lar... Joking wif u oni...</td>\n",
       "      <td>ok lar joking wif u oni</td>\n",
       "    </tr>\n",
       "    <tr>\n",
       "      <th>2</th>\n",
       "      <td>spam</td>\n",
       "      <td>Free entry in 2 a wkly comp to win FA Cup fina...</td>\n",
       "      <td>free entry 2 wkly comp win fa cup final tkts 2...</td>\n",
       "    </tr>\n",
       "    <tr>\n",
       "      <th>3</th>\n",
       "      <td>ham</td>\n",
       "      <td>U dun say so early hor... U c already then say...</td>\n",
       "      <td>u dun say early hor u c already say</td>\n",
       "    </tr>\n",
       "    <tr>\n",
       "      <th>4</th>\n",
       "      <td>ham</td>\n",
       "      <td>Nah I don't think he goes to usf, he lives aro...</td>\n",
       "      <td>nah dont think goes usf lives around though</td>\n",
       "    </tr>\n",
       "  </tbody>\n",
       "</table>\n",
       "</div>"
      ],
      "text/plain": [
       "     v1                                                 v2  \\\n",
       "0   ham  Go until jurong point, crazy.. Available only ...   \n",
       "1   ham                      Ok lar... Joking wif u oni...   \n",
       "2  spam  Free entry in 2 a wkly comp to win FA Cup fina...   \n",
       "3   ham  U dun say so early hor... U c already then say...   \n",
       "4   ham  Nah I don't think he goes to usf, he lives aro...   \n",
       "\n",
       "                                         v2_cleaning  \n",
       "0  go jurong point crazy available bugis n great ...  \n",
       "1                            ok lar joking wif u oni  \n",
       "2  free entry 2 wkly comp win fa cup final tkts 2...  \n",
       "3                u dun say early hor u c already say  \n",
       "4        nah dont think goes usf lives around though  "
      ]
     },
     "execution_count": 21,
     "metadata": {},
     "output_type": "execute_result"
    }
   ],
   "source": [
    "train_data.head()"
   ]
  },
  {
   "cell_type": "markdown",
   "metadata": {},
   "source": [
    "# Data Visualization"
   ]
  },
  {
   "cell_type": "code",
   "execution_count": 23,
   "metadata": {
    "execution": {
     "iopub.execute_input": "2023-10-02T21:08:37.085848Z",
     "iopub.status.busy": "2023-10-02T21:08:37.085479Z",
     "iopub.status.idle": "2023-10-02T21:08:37.095472Z",
     "shell.execute_reply": "2023-10-02T21:08:37.094329Z",
     "shell.execute_reply.started": "2023-10-02T21:08:37.085820Z"
    }
   },
   "outputs": [
    {
     "data": {
      "text/plain": [
       "v1\n",
       "ham     4516\n",
       "spam     653\n",
       "Name: count, dtype: int64"
      ]
     },
     "execution_count": 23,
     "metadata": {},
     "output_type": "execute_result"
    }
   ],
   "source": [
    "## Shows us the label counts\n",
    "train_data[\"v1\"].value_counts()"
   ]
  },
  {
   "cell_type": "code",
   "execution_count": 26,
   "metadata": {
    "execution": {
     "iopub.execute_input": "2023-10-02T21:11:15.347252Z",
     "iopub.status.busy": "2023-10-02T21:11:15.346888Z",
     "iopub.status.idle": "2023-10-02T21:11:15.572250Z",
     "shell.execute_reply": "2023-10-02T21:11:15.571117Z",
     "shell.execute_reply.started": "2023-10-02T21:11:15.347223Z"
    }
   },
   "outputs": [
    {
     "data": {
      "image/png": "[encoded data removed]",
      "text/plain": [
       "<Figure size 700x600 with 1 Axes>"
      ]
     },
     "metadata": {},
     "output_type": "display_data"
    }
   ],
   "source": [
    "# Create a histogram of genre distribution\n",
    "plt.figure(figsize=(7, 6))\n",
    "plt.hist(train_data[\"v1\"],bins =27 , color='blue', alpha=0.7)\n",
    "plt.title(\"v1 count\")\n",
    "plt.xlabel(\"labels\")\n",
    "plt.ylabel(\"count\")\n",
    "plt.xticks(rotation=90)\n",
    "plt.show()"
   ]
  },
  {
   "cell_type": "code",
   "execution_count": 32,
   "metadata": {
    "execution": {
     "iopub.execute_input": "2023-10-02T21:18:40.393134Z",
     "iopub.status.busy": "2023-10-02T21:18:40.392397Z",
     "iopub.status.idle": "2023-10-02T21:18:40.402233Z",
     "shell.execute_reply": "2023-10-02T21:18:40.400980Z",
     "shell.execute_reply.started": "2023-10-02T21:18:40.393096Z"
    }
   },
   "outputs": [
    {
     "data": {
      "text/plain": [
       "['ham', 'spam']"
      ]
     },
     "execution_count": 32,
     "metadata": {},
     "output_type": "execute_result"
    }
   ],
   "source": [
    "#Convert sentiment labels to numerical values for modeling\n",
    "from sklearn.preprocessing import LabelEncoder\n",
    "label_encoder = LabelEncoder()\n",
    "train_data['v1_labencode'] = label_encoder.fit_transform(train_data['v1'])\n",
    "train_data['v1_labencode']\n",
    "\n",
    "class_labeles= list(label_encoder.classes_)\n",
    "class_labeles   "
   ]
  },
  {
   "cell_type": "code",
   "execution_count": 34,
   "metadata": {
    "execution": {
     "iopub.execute_input": "2023-10-02T21:18:46.331026Z",
     "iopub.status.busy": "2023-10-02T21:18:46.330647Z",
     "iopub.status.idle": "2023-10-02T21:18:46.341968Z",
     "shell.execute_reply": "2023-10-02T21:18:46.340926Z",
     "shell.execute_reply.started": "2023-10-02T21:18:46.330996Z"
    }
   },
   "outputs": [
    {
     "data": {
      "text/html": [
       "<div>\n",
       "<style scoped>\n",
       "    .dataframe tbody tr th:only-of-type {\n",
       "        vertical-align: middle;\n",
       "    }\n",
       "\n",
       "    .dataframe tbody tr th {\n",
       "        vertical-align: top;\n",
       "    }\n",
       "\n",
       "    .dataframe thead th {\n",
       "        text-align: right;\n",
       "    }\n",
       "</style>\n",
       "<table border=\"1\" class=\"dataframe\">\n",
       "  <thead>\n",
       "    <tr style=\"text-align: right;\">\n",
       "      <th></th>\n",
       "      <th>v1</th>\n",
       "      <th>v2</th>\n",
       "      <th>v2_cleaning</th>\n",
       "      <th>v1_labencode</th>\n",
       "    </tr>\n",
       "  </thead>\n",
       "  <tbody>\n",
       "    <tr>\n",
       "      <th>0</th>\n",
       "      <td>ham</td>\n",
       "      <td>Go until jurong point, crazy.. Available only ...</td>\n",
       "      <td>go jurong point crazy available bugis n great ...</td>\n",
       "      <td>0</td>\n",
       "    </tr>\n",
       "    <tr>\n",
       "      <th>1</th>\n",
       "      <td>ham</td>\n",
       "      <td>Ok lar... Joking wif u oni...</td>\n",
       "      <td>ok lar joking wif u oni</td>\n",
       "      <td>0</td>\n",
       "    </tr>\n",
       "    <tr>\n",
       "      <th>2</th>\n",
       "      <td>spam</td>\n",
       "      <td>Free entry in 2 a wkly comp to win FA Cup fina...</td>\n",
       "      <td>free entry 2 wkly comp win fa cup final tkts 2...</td>\n",
       "      <td>1</td>\n",
       "    </tr>\n",
       "    <tr>\n",
       "      <th>3</th>\n",
       "      <td>ham</td>\n",
       "      <td>U dun say so early hor... U c already then say...</td>\n",
       "      <td>u dun say early hor u c already say</td>\n",
       "      <td>0</td>\n",
       "    </tr>\n",
       "    <tr>\n",
       "      <th>4</th>\n",
       "      <td>ham</td>\n",
       "      <td>Nah I don't think he goes to usf, he lives aro...</td>\n",
       "      <td>nah dont think goes usf lives around though</td>\n",
       "      <td>0</td>\n",
       "    </tr>\n",
       "  </tbody>\n",
       "</table>\n",
       "</div>"
      ],
      "text/plain": [
       "     v1                                                 v2  \\\n",
       "0   ham  Go until jurong point, crazy.. Available only ...   \n",
       "1   ham                      Ok lar... Joking wif u oni...   \n",
       "2  spam  Free entry in 2 a wkly comp to win FA Cup fina...   \n",
       "3   ham  U dun say so early hor... U c already then say...   \n",
       "4   ham  Nah I don't think he goes to usf, he lives aro...   \n",
       "\n",
       "                                         v2_cleaning  v1_labencode  \n",
       "0  go jurong point crazy available bugis n great ...             0  \n",
       "1                            ok lar joking wif u oni             0  \n",
       "2  free entry 2 wkly comp win fa cup final tkts 2...             1  \n",
       "3                u dun say early hor u c already say             0  \n",
       "4        nah dont think goes usf lives around though             0  "
      ]
     },
     "execution_count": 34,
     "metadata": {},
     "output_type": "execute_result"
    }
   ],
   "source": [
    "train_data.head()"
   ]
  },
  {
   "cell_type": "markdown",
   "metadata": {},
   "source": [
    "# Spliting training and test data"
   ]
  },
  {
   "cell_type": "code",
   "execution_count": 35,
   "metadata": {
    "execution": {
     "iopub.execute_input": "2023-10-02T21:19:42.684978Z",
     "iopub.status.busy": "2023-10-02T21:19:42.684586Z",
     "iopub.status.idle": "2023-10-02T21:19:42.690473Z",
     "shell.execute_reply": "2023-10-02T21:19:42.689338Z",
     "shell.execute_reply.started": "2023-10-02T21:19:42.684948Z"
    }
   },
   "outputs": [],
   "source": [
    "# Separating features and Target\n",
    "x = train_data[\"v2_cleaning\"]\n",
    "y = train_data[\"v1\"]"
   ]
  },
  {
   "cell_type": "code",
   "execution_count": 36,
   "metadata": {
    "execution": {
     "iopub.execute_input": "2023-10-02T21:20:13.515754Z",
     "iopub.status.busy": "2023-10-02T21:20:13.515422Z",
     "iopub.status.idle": "2023-10-02T21:20:13.522927Z",
     "shell.execute_reply": "2023-10-02T21:20:13.521782Z",
     "shell.execute_reply.started": "2023-10-02T21:20:13.515729Z"
    }
   },
   "outputs": [],
   "source": [
    "x_train ,x_test ,y_train ,y_test = train_test_split(x ,y ,test_size = 0.3, random_state=2)"
   ]
  },
  {
   "cell_type": "markdown",
   "metadata": {},
   "source": [
    "# Model Training"
   ]
  },
  {
   "cell_type": "code",
   "execution_count": 37,
   "metadata": {
    "execution": {
     "iopub.execute_input": "2023-10-02T21:21:47.432930Z",
     "iopub.status.busy": "2023-10-02T21:21:47.432556Z",
     "iopub.status.idle": "2023-10-02T21:21:47.523181Z",
     "shell.execute_reply": "2023-10-02T21:21:47.522108Z",
     "shell.execute_reply.started": "2023-10-02T21:21:47.432901Z"
    }
   },
   "outputs": [],
   "source": [
    "# Create a TF-IDF vectorizer\n",
    "tfidf_vectorizer = TfidfVectorizer(max_features=1000)  # You can adjust the max_features as needed\n",
    "\n",
    "# Fit and transform the TF-IDF vectorizer on the training data\n",
    "X_train_tfidf = tfidf_vectorizer.fit_transform(x_train)\n",
    "\n",
    "# Transform the test data using the same vectorizer\n",
    "X_test_tfidf = tfidf_vectorizer.transform(x_test)\n"
   ]
  },
  {
   "cell_type": "code",
   "execution_count": 40,
   "metadata": {
    "execution": {
     "iopub.execute_input": "2023-10-02T21:25:06.188779Z",
     "iopub.status.busy": "2023-10-02T21:25:06.187892Z",
     "iopub.status.idle": "2023-10-02T21:25:07.065262Z",
     "shell.execute_reply": "2023-10-02T21:25:07.063895Z",
     "shell.execute_reply.started": "2023-10-02T21:25:06.188740Z"
    }
   },
   "outputs": [
    {
     "name": "stdout",
     "output_type": "stream",
     "text": [
      "Classifier: Naive Bayes\n",
      "Accuracy: 0.97\n",
      "Confusion Matrix:\n",
      "[[1356    4]\n",
      " [  39  152]]\n",
      "Classification Report:\n",
      "              precision    recall  f1-score   support\n",
      "\n",
      "         ham       0.97      1.00      0.98      1360\n",
      "        spam       0.97      0.80      0.88       191\n",
      "\n",
      "    accuracy                           0.97      1551\n",
      "   macro avg       0.97      0.90      0.93      1551\n",
      "weighted avg       0.97      0.97      0.97      1551\n",
      "\n",
      "Classifier: Logistic Regression\n",
      "Accuracy: 0.96\n",
      "Confusion Matrix:\n",
      "[[1357    3]\n",
      " [  54  137]]\n",
      "Classification Report:\n",
      "              precision    recall  f1-score   support\n",
      "\n",
      "         ham       0.96      1.00      0.98      1360\n",
      "        spam       0.98      0.72      0.83       191\n",
      "\n",
      "    accuracy                           0.96      1551\n",
      "   macro avg       0.97      0.86      0.90      1551\n",
      "weighted avg       0.96      0.96      0.96      1551\n",
      "\n",
      "Classifier: Support Vector Machine\n",
      "Accuracy: 0.98\n",
      "Confusion Matrix:\n",
      "[[1359    1]\n",
      " [  35  156]]\n",
      "Classification Report:\n",
      "              precision    recall  f1-score   support\n",
      "\n",
      "         ham       0.97      1.00      0.99      1360\n",
      "        spam       0.99      0.82      0.90       191\n",
      "\n",
      "    accuracy                           0.98      1551\n",
      "   macro avg       0.98      0.91      0.94      1551\n",
      "weighted avg       0.98      0.98      0.98      1551\n",
      "\n"
     ]
    }
   ],
   "source": [
    "# Initialize and train classifiers\n",
    "classifiers = {\n",
    "    \"Naive Bayes\": MultinomialNB(),\n",
    "    \"Logistic Regression\": LogisticRegression(max_iter=1000),\n",
    "    \"Support Vector Machine\": SVC()\n",
    "}\n",
    "\n",
    "for classifier_name, classifier in classifiers.items():\n",
    "    classifier.fit(X_train_tfidf, y_train)\n",
    "    y_pred = classifier.predict(X_test_tfidf)\n",
    "\n",
    "    # Evaluate the performance of each classifier\n",
    "    accuracy = accuracy_score(y_test, y_pred)\n",
    "    confusion = confusion_matrix(y_test, y_pred)\n",
    "    report = classification_report(y_test, y_pred)\n",
    "    \n",
    "    print(f\"Classifier: {classifier_name}\")\n",
    "    print(f\"Accuracy: {accuracy:.2f}\")\n",
    "    print(f\"Confusion Matrix:\\n{confusion}\")\n",
    "    print(f\"Classification Report:\\n{report}\")"
   ]
  },
  {
   "cell_type": "code",
   "execution_count": null,
   "metadata": {},
   "outputs": [],
   "source": []
  }
 ],
 "metadata": {
  "kernelspec": {
   "display_name": "Python 3 (ipykernel)",
   "language": "python",
   "name": "python3"
  },
  "language_info": {
   "codemirror_mode": {
    "name": "ipython",
    "version": 3
   },
   "file_extension": ".py",
   "mimetype": "text/x-python",
   "name": "python",
   "nbconvert_exporter": "python",
   "pygments_lexer": "ipython3",
   "version": "3.11.3"
  }
 },
 "nbformat": 4,
 "nbformat_minor": 4
}
